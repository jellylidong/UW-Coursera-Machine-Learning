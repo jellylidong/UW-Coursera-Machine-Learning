{
 "cells": [
  {
   "cell_type": "code",
   "execution_count": 1,
   "metadata": {
    "collapsed": true
   },
   "outputs": [],
   "source": [
    "def dist(x1, x2):\n",
    "    d1 = (x1[0]-x2[0])**2\n",
    "    d2 = (x1[1]-x2[1])**2\n",
    "    return (d1 + d2)**0.5"
   ]
  },
  {
   "cell_type": "code",
   "execution_count": null,
   "metadata": {
    "collapsed": true
   },
   "outputs": [],
   "source": [
    "c1 = [2.0, 2.0]\n",
    "c2 = -2.0, -2.0]\n",
    "\n",
    "points = [[-1.88, 2.05], [-0.71, 0.42], [2.41, -0.67], [1.85, -3.80], [-3.69, -1.33]]\n",
    "\n",
    "for i in range(5):\n",
    "    c11 = [0.0, 0.00]\n",
    "    c21 = [0.0, 0.00]\n",
    "    for p in points:\n",
    "        d1 = dist(c1, p)\n",
    "        d2 = dist(c2, p)\n",
    "        if d1 < d2:\n",
    "            c11[0] = c11[0] + p[0]\n",
    "            c11[1] = c11[1] + p[1]\n",
    "            print p, \": 1\"\n",
    "        else:\n",
    "            c21[0] = c21[0] + p[0]\n",
    "            c21[1] = c21[1] + p[1]\n",
    "            print p, \": 1\"\n",
    "    "
   ]
  }
 ],
 "metadata": {
  "kernelspec": {
   "display_name": "Python 2",
   "language": "python",
   "name": "python2"
  },
  "language_info": {
   "codemirror_mode": {
    "name": "ipython",
    "version": 2
   },
   "file_extension": ".py",
   "mimetype": "text/x-python",
   "name": "python",
   "nbconvert_exporter": "python",
   "pygments_lexer": "ipython2",
   "version": "2.7.13"
  }
 },
 "nbformat": 4,
 "nbformat_minor": 0
}
