{
 "cells": [
  {
   "cell_type": "markdown",
   "metadata": {},
   "source": [
    "#Building an image retrieval system with deep features\n",
    "\n",
    "\n",
    "#Fire up GraphLab Create"
   ]
  },
  {
   "cell_type": "code",
   "execution_count": 1,
   "metadata": {
    "collapsed": true
   },
   "outputs": [],
   "source": [
    "import graphlab"
   ]
  },
  {
   "cell_type": "markdown",
   "metadata": {},
   "source": [
    "#Load the CIFAR-10 dataset\n",
    "\n",
    "We will use a popular benchmark dataset in computer vision called CIFAR-10.  \n",
    "\n",
    "(We've reduced the data to just 4 categories = {'cat','bird','automobile','dog'}.)\n",
    "\n",
    "This dataset is already split into a training set and test set. In this simple retrieval example, there is no notion of \"testing\", so we will only use the training data."
   ]
  },
  {
   "cell_type": "code",
   "execution_count": 2,
   "metadata": {
    "collapsed": false
   },
   "outputs": [
    {
     "name": "stderr",
     "output_type": "stream",
     "text": [
      "[INFO] graphlab.cython.cy_server: GraphLab Create v2.1 started. Logging: /tmp/graphlab_server_1530394619.log\n"
     ]
    },
    {
     "name": "stdout",
     "output_type": "stream",
     "text": [
      "This non-commercial license of GraphLab Create for academic use is assigned to dlihit@ufl.edu and will expire on May 22, 2019.\n"
     ]
    }
   ],
   "source": [
    "image_train = graphlab.SFrame('image_train_data/')"
   ]
  },
  {
   "cell_type": "markdown",
   "metadata": {},
   "source": [
    "#Computing deep features for our images\n",
    "\n",
    "The two lines below allow us to compute deep features.  This computation takes a little while, so we have already computed them and saved the results as a column in the data you loaded. \n",
    "\n",
    "(Note that if you would like to compute such deep features and have a GPU on your machine, you should use the GPU enabled GraphLab Create, which will be significantly faster for this task.)"
   ]
  },
  {
   "cell_type": "code",
   "execution_count": null,
   "metadata": {
    "collapsed": true
   },
   "outputs": [],
   "source": [
    "#deep_learning_model = graphlab.load_model('http://s3.amazonaws.com/GraphLab-Datasets/deeplearning/imagenet_model_iter45')\n",
    "#image_train['deep_features'] = deep_learning_model.extract_features(image_train)"
   ]
  },
  {
   "cell_type": "code",
   "execution_count": 3,
   "metadata": {
    "collapsed": false
   },
   "outputs": [
    {
     "data": {
      "text/html": [
       "<div style=\"max-height:1000px;max-width:1500px;overflow:auto;\"><table frame=\"box\" rules=\"cols\">\n",
       "    <tr>\n",
       "        <th style=\"padding-left: 1em; padding-right: 1em; text-align: center\">id</th>\n",
       "        <th style=\"padding-left: 1em; padding-right: 1em; text-align: center\">image</th>\n",
       "        <th style=\"padding-left: 1em; padding-right: 1em; text-align: center\">label</th>\n",
       "        <th style=\"padding-left: 1em; padding-right: 1em; text-align: center\">deep_features</th>\n",
       "        <th style=\"padding-left: 1em; padding-right: 1em; text-align: center\">image_array</th>\n",
       "    </tr>\n",
       "    <tr>\n",
       "        <td style=\"padding-left: 1em; padding-right: 1em; text-align: center; vertical-align: top\">24</td>\n",
       "        <td style=\"padding-left: 1em; padding-right: 1em; text-align: center; vertical-align: top\">Height: 32 Width: 32</td>\n",
       "        <td style=\"padding-left: 1em; padding-right: 1em; text-align: center; vertical-align: top\">bird</td>\n",
       "        <td style=\"padding-left: 1em; padding-right: 1em; text-align: center; vertical-align: top\">[0.242871761322,<br>1.09545373917, 0.0, ...</td>\n",
       "        <td style=\"padding-left: 1em; padding-right: 1em; text-align: center; vertical-align: top\">[73.0, 77.0, 58.0, 71.0,<br>68.0, 50.0, 77.0, 69.0, ...</td>\n",
       "    </tr>\n",
       "    <tr>\n",
       "        <td style=\"padding-left: 1em; padding-right: 1em; text-align: center; vertical-align: top\">33</td>\n",
       "        <td style=\"padding-left: 1em; padding-right: 1em; text-align: center; vertical-align: top\">Height: 32 Width: 32</td>\n",
       "        <td style=\"padding-left: 1em; padding-right: 1em; text-align: center; vertical-align: top\">cat</td>\n",
       "        <td style=\"padding-left: 1em; padding-right: 1em; text-align: center; vertical-align: top\">[0.525087952614, 0.0,<br>0.0, 0.0, 0.0, 0.0, ...</td>\n",
       "        <td style=\"padding-left: 1em; padding-right: 1em; text-align: center; vertical-align: top\">[7.0, 5.0, 8.0, 7.0, 5.0,<br>8.0, 5.0, 4.0, 6.0, 7.0, ...</td>\n",
       "    </tr>\n",
       "    <tr>\n",
       "        <td style=\"padding-left: 1em; padding-right: 1em; text-align: center; vertical-align: top\">36</td>\n",
       "        <td style=\"padding-left: 1em; padding-right: 1em; text-align: center; vertical-align: top\">Height: 32 Width: 32</td>\n",
       "        <td style=\"padding-left: 1em; padding-right: 1em; text-align: center; vertical-align: top\">cat</td>\n",
       "        <td style=\"padding-left: 1em; padding-right: 1em; text-align: center; vertical-align: top\">[0.566015958786, 0.0,<br>0.0, 0.0, 0.0, 0.0, ...</td>\n",
       "        <td style=\"padding-left: 1em; padding-right: 1em; text-align: center; vertical-align: top\">[169.0, 122.0, 65.0,<br>131.0, 108.0, 75.0, ...</td>\n",
       "    </tr>\n",
       "    <tr>\n",
       "        <td style=\"padding-left: 1em; padding-right: 1em; text-align: center; vertical-align: top\">70</td>\n",
       "        <td style=\"padding-left: 1em; padding-right: 1em; text-align: center; vertical-align: top\">Height: 32 Width: 32</td>\n",
       "        <td style=\"padding-left: 1em; padding-right: 1em; text-align: center; vertical-align: top\">dog</td>\n",
       "        <td style=\"padding-left: 1em; padding-right: 1em; text-align: center; vertical-align: top\">[1.12979578972, 0.0, 0.0,<br>0.778194487095, 0.0, ...</td>\n",
       "        <td style=\"padding-left: 1em; padding-right: 1em; text-align: center; vertical-align: top\">[154.0, 179.0, 152.0,<br>159.0, 183.0, 157.0, ...</td>\n",
       "    </tr>\n",
       "    <tr>\n",
       "        <td style=\"padding-left: 1em; padding-right: 1em; text-align: center; vertical-align: top\">90</td>\n",
       "        <td style=\"padding-left: 1em; padding-right: 1em; text-align: center; vertical-align: top\">Height: 32 Width: 32</td>\n",
       "        <td style=\"padding-left: 1em; padding-right: 1em; text-align: center; vertical-align: top\">bird</td>\n",
       "        <td style=\"padding-left: 1em; padding-right: 1em; text-align: center; vertical-align: top\">[1.71786928177, 0.0, 0.0,<br>0.0, 0.0, 0.0, ...</td>\n",
       "        <td style=\"padding-left: 1em; padding-right: 1em; text-align: center; vertical-align: top\">[216.0, 195.0, 180.0,<br>201.0, 178.0, 160.0, ...</td>\n",
       "    </tr>\n",
       "    <tr>\n",
       "        <td style=\"padding-left: 1em; padding-right: 1em; text-align: center; vertical-align: top\">97</td>\n",
       "        <td style=\"padding-left: 1em; padding-right: 1em; text-align: center; vertical-align: top\">Height: 32 Width: 32</td>\n",
       "        <td style=\"padding-left: 1em; padding-right: 1em; text-align: center; vertical-align: top\">automobile</td>\n",
       "        <td style=\"padding-left: 1em; padding-right: 1em; text-align: center; vertical-align: top\">[1.57818555832, 0.0, 0.0,<br>0.0, 0.0, 0.0, ...</td>\n",
       "        <td style=\"padding-left: 1em; padding-right: 1em; text-align: center; vertical-align: top\">[33.0, 44.0, 27.0, 29.0,<br>44.0, 31.0, 32.0, 45.0, ...</td>\n",
       "    </tr>\n",
       "    <tr>\n",
       "        <td style=\"padding-left: 1em; padding-right: 1em; text-align: center; vertical-align: top\">107</td>\n",
       "        <td style=\"padding-left: 1em; padding-right: 1em; text-align: center; vertical-align: top\">Height: 32 Width: 32</td>\n",
       "        <td style=\"padding-left: 1em; padding-right: 1em; text-align: center; vertical-align: top\">dog</td>\n",
       "        <td style=\"padding-left: 1em; padding-right: 1em; text-align: center; vertical-align: top\">[0.0, 0.0,<br>0.220677852631, 0.0,  ...</td>\n",
       "        <td style=\"padding-left: 1em; padding-right: 1em; text-align: center; vertical-align: top\">[97.0, 51.0, 31.0, 104.0,<br>58.0, 38.0, 107.0, 61.0, ...</td>\n",
       "    </tr>\n",
       "    <tr>\n",
       "        <td style=\"padding-left: 1em; padding-right: 1em; text-align: center; vertical-align: top\">121</td>\n",
       "        <td style=\"padding-left: 1em; padding-right: 1em; text-align: center; vertical-align: top\">Height: 32 Width: 32</td>\n",
       "        <td style=\"padding-left: 1em; padding-right: 1em; text-align: center; vertical-align: top\">bird</td>\n",
       "        <td style=\"padding-left: 1em; padding-right: 1em; text-align: center; vertical-align: top\">[0.0, 0.23753464222, 0.0,<br>0.0, 0.0, 0.0, ...</td>\n",
       "        <td style=\"padding-left: 1em; padding-right: 1em; text-align: center; vertical-align: top\">[93.0, 96.0, 88.0, 102.0,<br>106.0, 97.0, 117.0, ...</td>\n",
       "    </tr>\n",
       "    <tr>\n",
       "        <td style=\"padding-left: 1em; padding-right: 1em; text-align: center; vertical-align: top\">136</td>\n",
       "        <td style=\"padding-left: 1em; padding-right: 1em; text-align: center; vertical-align: top\">Height: 32 Width: 32</td>\n",
       "        <td style=\"padding-left: 1em; padding-right: 1em; text-align: center; vertical-align: top\">automobile</td>\n",
       "        <td style=\"padding-left: 1em; padding-right: 1em; text-align: center; vertical-align: top\">[0.0, 0.0, 0.0, 0.0, 0.0,<br>0.0, 7.5737862587, 0.0, ...</td>\n",
       "        <td style=\"padding-left: 1em; padding-right: 1em; text-align: center; vertical-align: top\">[35.0, 59.0, 53.0, 36.0,<br>56.0, 56.0, 42.0, 62.0, ...</td>\n",
       "    </tr>\n",
       "    <tr>\n",
       "        <td style=\"padding-left: 1em; padding-right: 1em; text-align: center; vertical-align: top\">138</td>\n",
       "        <td style=\"padding-left: 1em; padding-right: 1em; text-align: center; vertical-align: top\">Height: 32 Width: 32</td>\n",
       "        <td style=\"padding-left: 1em; padding-right: 1em; text-align: center; vertical-align: top\">bird</td>\n",
       "        <td style=\"padding-left: 1em; padding-right: 1em; text-align: center; vertical-align: top\">[0.658935725689, 0.0,<br>0.0, 0.0, 0.0, 0.0, ...</td>\n",
       "        <td style=\"padding-left: 1em; padding-right: 1em; text-align: center; vertical-align: top\">[205.0, 193.0, 195.0,<br>200.0, 187.0, 193.0, ...</td>\n",
       "    </tr>\n",
       "</table>\n",
       "[10 rows x 5 columns]<br/>\n",
       "</div>"
      ],
      "text/plain": [
       "Columns:\n",
       "\tid\tint\n",
       "\timage\tImage\n",
       "\tlabel\tstr\n",
       "\tdeep_features\tarray\n",
       "\timage_array\tarray\n",
       "\n",
       "Rows: 10\n",
       "\n",
       "Data:\n",
       "+-----+----------------------+------------+-------------------------------+\n",
       "|  id |        image         |   label    |         deep_features         |\n",
       "+-----+----------------------+------------+-------------------------------+\n",
       "|  24 | Height: 32 Width: 32 |    bird    | [0.242871761322, 1.0954537... |\n",
       "|  33 | Height: 32 Width: 32 |    cat     | [0.525087952614, 0.0, 0.0,... |\n",
       "|  36 | Height: 32 Width: 32 |    cat     | [0.566015958786, 0.0, 0.0,... |\n",
       "|  70 | Height: 32 Width: 32 |    dog     | [1.12979578972, 0.0, 0.0, ... |\n",
       "|  90 | Height: 32 Width: 32 |    bird    | [1.71786928177, 0.0, 0.0, ... |\n",
       "|  97 | Height: 32 Width: 32 | automobile | [1.57818555832, 0.0, 0.0, ... |\n",
       "| 107 | Height: 32 Width: 32 |    dog     | [0.0, 0.0, 0.220677852631,... |\n",
       "| 121 | Height: 32 Width: 32 |    bird    | [0.0, 0.23753464222, 0.0, ... |\n",
       "| 136 | Height: 32 Width: 32 | automobile | [0.0, 0.0, 0.0, 0.0, 0.0, ... |\n",
       "| 138 | Height: 32 Width: 32 |    bird    | [0.658935725689, 0.0, 0.0,... |\n",
       "+-----+----------------------+------------+-------------------------------+\n",
       "+-------------------------------+\n",
       "|          image_array          |\n",
       "+-------------------------------+\n",
       "| [73.0, 77.0, 58.0, 71.0, 6... |\n",
       "| [7.0, 5.0, 8.0, 7.0, 5.0, ... |\n",
       "| [169.0, 122.0, 65.0, 131.0... |\n",
       "| [154.0, 179.0, 152.0, 159.... |\n",
       "| [216.0, 195.0, 180.0, 201.... |\n",
       "| [33.0, 44.0, 27.0, 29.0, 4... |\n",
       "| [97.0, 51.0, 31.0, 104.0, ... |\n",
       "| [93.0, 96.0, 88.0, 102.0, ... |\n",
       "| [35.0, 59.0, 53.0, 36.0, 5... |\n",
       "| [205.0, 193.0, 195.0, 200.... |\n",
       "+-------------------------------+\n",
       "[10 rows x 5 columns]"
      ]
     },
     "execution_count": 3,
     "metadata": {},
     "output_type": "execute_result"
    }
   ],
   "source": [
    "image_train.head()"
   ]
  },
  {
   "cell_type": "markdown",
   "metadata": {},
   "source": [
    "#Train a nearest-neighbors model for retrieving images using deep features\n",
    "\n",
    "We will now build a simple image retrieval system that finds the nearest neighbors for any image."
   ]
  },
  {
   "cell_type": "code",
   "execution_count": 4,
   "metadata": {
    "collapsed": false
   },
   "outputs": [
    {
     "data": {
      "text/html": [
       "<pre>Starting brute force nearest neighbors model training.</pre>"
      ],
      "text/plain": [
       "Starting brute force nearest neighbors model training."
      ]
     },
     "metadata": {},
     "output_type": "display_data"
    }
   ],
   "source": [
    "knn_model = graphlab.nearest_neighbors.create(image_train,features=['deep_features'],\n",
    "                                             label='id')"
   ]
  },
  {
   "cell_type": "markdown",
   "metadata": {},
   "source": [
    "#Use image retrieval model with deep features to find similar images\n",
    "\n",
    "Let's find similar images to this cat picture."
   ]
  },
  {
   "cell_type": "code",
   "execution_count": 11,
   "metadata": {
    "collapsed": false
   },
   "outputs": [
    {
     "name": "stdout",
     "output_type": "stream",
     "text": [
      "Canvas is accessible via web browser at the URL: http://localhost:60267/index.html\n",
      "Opening Canvas in default web browser.\n"
     ]
    }
   ],
   "source": [
    "graphlab.canvas.set_target('browser')\n",
    "cat = image_train[18:19]\n",
    "cat['image'].show()"
   ]
  },
  {
   "cell_type": "code",
   "execution_count": 6,
   "metadata": {
    "collapsed": false
   },
   "outputs": [
    {
     "data": {
      "text/html": [
       "<pre>Starting pairwise querying.</pre>"
      ],
      "text/plain": [
       "Starting pairwise querying."
      ]
     },
     "metadata": {},
     "output_type": "display_data"
    },
    {
     "data": {
      "text/html": [
       "<pre>+--------------+---------+-------------+--------------+</pre>"
      ],
      "text/plain": [
       "+--------------+---------+-------------+--------------+"
      ]
     },
     "metadata": {},
     "output_type": "display_data"
    },
    {
     "data": {
      "text/html": [
       "<pre>| Query points | # Pairs | % Complete. | Elapsed Time |</pre>"
      ],
      "text/plain": [
       "| Query points | # Pairs | % Complete. | Elapsed Time |"
      ]
     },
     "metadata": {},
     "output_type": "display_data"
    },
    {
     "data": {
      "text/html": [
       "<pre>+--------------+---------+-------------+--------------+</pre>"
      ],
      "text/plain": [
       "+--------------+---------+-------------+--------------+"
      ]
     },
     "metadata": {},
     "output_type": "display_data"
    },
    {
     "data": {
      "text/html": [
       "<pre>| 0            | 1       | 0.0498753   | 14.593ms     |</pre>"
      ],
      "text/plain": [
       "| 0            | 1       | 0.0498753   | 14.593ms     |"
      ]
     },
     "metadata": {},
     "output_type": "display_data"
    },
    {
     "data": {
      "text/html": [
       "<pre>| Done         |         | 100         | 219.398ms    |</pre>"
      ],
      "text/plain": [
       "| Done         |         | 100         | 219.398ms    |"
      ]
     },
     "metadata": {},
     "output_type": "display_data"
    },
    {
     "data": {
      "text/html": [
       "<pre>+--------------+---------+-------------+--------------+</pre>"
      ],
      "text/plain": [
       "+--------------+---------+-------------+--------------+"
      ]
     },
     "metadata": {},
     "output_type": "display_data"
    },
    {
     "data": {
      "text/html": [
       "<div style=\"max-height:1000px;max-width:1500px;overflow:auto;\"><table frame=\"box\" rules=\"cols\">\n",
       "    <tr>\n",
       "        <th style=\"padding-left: 1em; padding-right: 1em; text-align: center\">query_label</th>\n",
       "        <th style=\"padding-left: 1em; padding-right: 1em; text-align: center\">reference_label</th>\n",
       "        <th style=\"padding-left: 1em; padding-right: 1em; text-align: center\">distance</th>\n",
       "        <th style=\"padding-left: 1em; padding-right: 1em; text-align: center\">rank</th>\n",
       "    </tr>\n",
       "    <tr>\n",
       "        <td style=\"padding-left: 1em; padding-right: 1em; text-align: center; vertical-align: top\">0</td>\n",
       "        <td style=\"padding-left: 1em; padding-right: 1em; text-align: center; vertical-align: top\">384</td>\n",
       "        <td style=\"padding-left: 1em; padding-right: 1em; text-align: center; vertical-align: top\">0.0</td>\n",
       "        <td style=\"padding-left: 1em; padding-right: 1em; text-align: center; vertical-align: top\">1</td>\n",
       "    </tr>\n",
       "    <tr>\n",
       "        <td style=\"padding-left: 1em; padding-right: 1em; text-align: center; vertical-align: top\">0</td>\n",
       "        <td style=\"padding-left: 1em; padding-right: 1em; text-align: center; vertical-align: top\">6910</td>\n",
       "        <td style=\"padding-left: 1em; padding-right: 1em; text-align: center; vertical-align: top\">36.9403137951</td>\n",
       "        <td style=\"padding-left: 1em; padding-right: 1em; text-align: center; vertical-align: top\">2</td>\n",
       "    </tr>\n",
       "    <tr>\n",
       "        <td style=\"padding-left: 1em; padding-right: 1em; text-align: center; vertical-align: top\">0</td>\n",
       "        <td style=\"padding-left: 1em; padding-right: 1em; text-align: center; vertical-align: top\">39777</td>\n",
       "        <td style=\"padding-left: 1em; padding-right: 1em; text-align: center; vertical-align: top\">38.4634888975</td>\n",
       "        <td style=\"padding-left: 1em; padding-right: 1em; text-align: center; vertical-align: top\">3</td>\n",
       "    </tr>\n",
       "    <tr>\n",
       "        <td style=\"padding-left: 1em; padding-right: 1em; text-align: center; vertical-align: top\">0</td>\n",
       "        <td style=\"padding-left: 1em; padding-right: 1em; text-align: center; vertical-align: top\">36870</td>\n",
       "        <td style=\"padding-left: 1em; padding-right: 1em; text-align: center; vertical-align: top\">39.7559623119</td>\n",
       "        <td style=\"padding-left: 1em; padding-right: 1em; text-align: center; vertical-align: top\">4</td>\n",
       "    </tr>\n",
       "    <tr>\n",
       "        <td style=\"padding-left: 1em; padding-right: 1em; text-align: center; vertical-align: top\">0</td>\n",
       "        <td style=\"padding-left: 1em; padding-right: 1em; text-align: center; vertical-align: top\">41734</td>\n",
       "        <td style=\"padding-left: 1em; padding-right: 1em; text-align: center; vertical-align: top\">39.7866014148</td>\n",
       "        <td style=\"padding-left: 1em; padding-right: 1em; text-align: center; vertical-align: top\">5</td>\n",
       "    </tr>\n",
       "</table>\n",
       "[5 rows x 4 columns]<br/>\n",
       "</div>"
      ],
      "text/plain": [
       "Columns:\n",
       "\tquery_label\tint\n",
       "\treference_label\tint\n",
       "\tdistance\tfloat\n",
       "\trank\tint\n",
       "\n",
       "Rows: 5\n",
       "\n",
       "Data:\n",
       "+-------------+-----------------+---------------+------+\n",
       "| query_label | reference_label |    distance   | rank |\n",
       "+-------------+-----------------+---------------+------+\n",
       "|      0      |       384       |      0.0      |  1   |\n",
       "|      0      |       6910      | 36.9403137951 |  2   |\n",
       "|      0      |      39777      | 38.4634888975 |  3   |\n",
       "|      0      |      36870      | 39.7559623119 |  4   |\n",
       "|      0      |      41734      | 39.7866014148 |  5   |\n",
       "+-------------+-----------------+---------------+------+\n",
       "[5 rows x 4 columns]"
      ]
     },
     "execution_count": 6,
     "metadata": {},
     "output_type": "execute_result"
    }
   ],
   "source": [
    "knn_model.query(cat)"
   ]
  },
  {
   "cell_type": "markdown",
   "metadata": {},
   "source": [
    "We are going to create a simple function to view the nearest neighbors to save typing:"
   ]
  },
  {
   "cell_type": "code",
   "execution_count": 7,
   "metadata": {
    "collapsed": true
   },
   "outputs": [],
   "source": [
    "def get_images_from_ids(query_result):\n",
    "    return image_train.filter_by(query_result['reference_label'],'id')"
   ]
  },
  {
   "cell_type": "code",
   "execution_count": 8,
   "metadata": {
    "collapsed": false
   },
   "outputs": [
    {
     "data": {
      "text/html": [
       "<pre>Starting pairwise querying.</pre>"
      ],
      "text/plain": [
       "Starting pairwise querying."
      ]
     },
     "metadata": {},
     "output_type": "display_data"
    },
    {
     "data": {
      "text/html": [
       "<pre>+--------------+---------+-------------+--------------+</pre>"
      ],
      "text/plain": [
       "+--------------+---------+-------------+--------------+"
      ]
     },
     "metadata": {},
     "output_type": "display_data"
    },
    {
     "data": {
      "text/html": [
       "<pre>| Query points | # Pairs | % Complete. | Elapsed Time |</pre>"
      ],
      "text/plain": [
       "| Query points | # Pairs | % Complete. | Elapsed Time |"
      ]
     },
     "metadata": {},
     "output_type": "display_data"
    },
    {
     "data": {
      "text/html": [
       "<pre>+--------------+---------+-------------+--------------+</pre>"
      ],
      "text/plain": [
       "+--------------+---------+-------------+--------------+"
      ]
     },
     "metadata": {},
     "output_type": "display_data"
    },
    {
     "data": {
      "text/html": [
       "<pre>| 0            | 1       | 0.0498753   | 8.985ms      |</pre>"
      ],
      "text/plain": [
       "| 0            | 1       | 0.0498753   | 8.985ms      |"
      ]
     },
     "metadata": {},
     "output_type": "display_data"
    },
    {
     "data": {
      "text/html": [
       "<pre>| Done         |         | 100         | 206.595ms    |</pre>"
      ],
      "text/plain": [
       "| Done         |         | 100         | 206.595ms    |"
      ]
     },
     "metadata": {},
     "output_type": "display_data"
    },
    {
     "data": {
      "text/html": [
       "<pre>+--------------+---------+-------------+--------------+</pre>"
      ],
      "text/plain": [
       "+--------------+---------+-------------+--------------+"
      ]
     },
     "metadata": {},
     "output_type": "display_data"
    }
   ],
   "source": [
    "cat_neighbors = get_images_from_ids(knn_model.query(cat))"
   ]
  },
  {
   "cell_type": "code",
   "execution_count": 12,
   "metadata": {
    "collapsed": false
   },
   "outputs": [
    {
     "name": "stdout",
     "output_type": "stream",
     "text": [
      "Canvas is updated and available in a tab in the default browser.\n"
     ]
    }
   ],
   "source": [
    "cat_neighbors['image'].show()"
   ]
  },
  {
   "cell_type": "markdown",
   "metadata": {},
   "source": [
    "Very cool results showing similar cats.\n",
    "\n",
    "##Finding similar images to a car"
   ]
  },
  {
   "cell_type": "code",
   "execution_count": 13,
   "metadata": {
    "collapsed": false
   },
   "outputs": [
    {
     "name": "stdout",
     "output_type": "stream",
     "text": [
      "Canvas is updated and available in a tab in the default browser.\n"
     ]
    }
   ],
   "source": [
    "car = image_train[8:9]\n",
    "car['image'].show()"
   ]
  },
  {
   "cell_type": "code",
   "execution_count": 14,
   "metadata": {
    "collapsed": false
   },
   "outputs": [
    {
     "data": {
      "text/html": [
       "<pre>Starting pairwise querying.</pre>"
      ],
      "text/plain": [
       "Starting pairwise querying."
      ]
     },
     "metadata": {},
     "output_type": "display_data"
    },
    {
     "data": {
      "text/html": [
       "<pre>+--------------+---------+-------------+--------------+</pre>"
      ],
      "text/plain": [
       "+--------------+---------+-------------+--------------+"
      ]
     },
     "metadata": {},
     "output_type": "display_data"
    },
    {
     "data": {
      "text/html": [
       "<pre>| Query points | # Pairs | % Complete. | Elapsed Time |</pre>"
      ],
      "text/plain": [
       "| Query points | # Pairs | % Complete. | Elapsed Time |"
      ]
     },
     "metadata": {},
     "output_type": "display_data"
    },
    {
     "data": {
      "text/html": [
       "<pre>+--------------+---------+-------------+--------------+</pre>"
      ],
      "text/plain": [
       "+--------------+---------+-------------+--------------+"
      ]
     },
     "metadata": {},
     "output_type": "display_data"
    },
    {
     "data": {
      "text/html": [
       "<pre>| 0            | 1       | 0.0498753   | 18.588ms     |</pre>"
      ],
      "text/plain": [
       "| 0            | 1       | 0.0498753   | 18.588ms     |"
      ]
     },
     "metadata": {},
     "output_type": "display_data"
    },
    {
     "data": {
      "text/html": [
       "<pre>| Done         |         | 100         | 214.648ms    |</pre>"
      ],
      "text/plain": [
       "| Done         |         | 100         | 214.648ms    |"
      ]
     },
     "metadata": {},
     "output_type": "display_data"
    },
    {
     "data": {
      "text/html": [
       "<pre>+--------------+---------+-------------+--------------+</pre>"
      ],
      "text/plain": [
       "+--------------+---------+-------------+--------------+"
      ]
     },
     "metadata": {},
     "output_type": "display_data"
    },
    {
     "name": "stdout",
     "output_type": "stream",
     "text": [
      "Canvas is updated and available in a tab in the default browser.\n"
     ]
    }
   ],
   "source": [
    "get_images_from_ids(knn_model.query(car))['image'].show()"
   ]
  },
  {
   "cell_type": "markdown",
   "metadata": {},
   "source": [
    "#Just for fun, let's create a lambda to find and show nearest neighbor images"
   ]
  },
  {
   "cell_type": "code",
   "execution_count": 15,
   "metadata": {
    "collapsed": true
   },
   "outputs": [],
   "source": [
    "show_neighbors = lambda i: get_images_from_ids(knn_model.query(image_train[i:i+1]))['image'].show()"
   ]
  },
  {
   "cell_type": "code",
   "execution_count": 16,
   "metadata": {
    "collapsed": false
   },
   "outputs": [
    {
     "data": {
      "text/html": [
       "<pre>Starting pairwise querying.</pre>"
      ],
      "text/plain": [
       "Starting pairwise querying."
      ]
     },
     "metadata": {},
     "output_type": "display_data"
    },
    {
     "data": {
      "text/html": [
       "<pre>+--------------+---------+-------------+--------------+</pre>"
      ],
      "text/plain": [
       "+--------------+---------+-------------+--------------+"
      ]
     },
     "metadata": {},
     "output_type": "display_data"
    },
    {
     "data": {
      "text/html": [
       "<pre>| Query points | # Pairs | % Complete. | Elapsed Time |</pre>"
      ],
      "text/plain": [
       "| Query points | # Pairs | % Complete. | Elapsed Time |"
      ]
     },
     "metadata": {},
     "output_type": "display_data"
    },
    {
     "data": {
      "text/html": [
       "<pre>+--------------+---------+-------------+--------------+</pre>"
      ],
      "text/plain": [
       "+--------------+---------+-------------+--------------+"
      ]
     },
     "metadata": {},
     "output_type": "display_data"
    },
    {
     "data": {
      "text/html": [
       "<pre>| 0            | 1       | 0.0498753   | 15.809ms     |</pre>"
      ],
      "text/plain": [
       "| 0            | 1       | 0.0498753   | 15.809ms     |"
      ]
     },
     "metadata": {},
     "output_type": "display_data"
    },
    {
     "data": {
      "text/html": [
       "<pre>| Done         |         | 100         | 180.995ms    |</pre>"
      ],
      "text/plain": [
       "| Done         |         | 100         | 180.995ms    |"
      ]
     },
     "metadata": {},
     "output_type": "display_data"
    },
    {
     "data": {
      "text/html": [
       "<pre>+--------------+---------+-------------+--------------+</pre>"
      ],
      "text/plain": [
       "+--------------+---------+-------------+--------------+"
      ]
     },
     "metadata": {},
     "output_type": "display_data"
    },
    {
     "name": "stdout",
     "output_type": "stream",
     "text": [
      "Canvas is updated and available in a tab in the default browser.\n"
     ]
    }
   ],
   "source": [
    "show_neighbors(8)"
   ]
  },
  {
   "cell_type": "code",
   "execution_count": 16,
   "metadata": {
    "collapsed": false
   },
   "outputs": [
    {
     "name": "stdout",
     "output_type": "stream",
     "text": [
      "PROGRESS: Starting pairwise querying...\n",
      "PROGRESS: +--------------+---------+-------------+--------------+\n",
      "PROGRESS: | Query points | # Pairs | % Complete. | Elapsed Time |\n",
      "PROGRESS: +--------------+---------+-------------+--------------+\n",
      "PROGRESS: | 0            | 1       | 0.0498753   | 14.465ms     |\n",
      "PROGRESS: | Done         |         | 100         | 69.576ms     |\n",
      "PROGRESS: +--------------+---------+-------------+--------------+\n"
     ]
    },
    {
     "data": {
      "application/javascript": [
       "$(\"head\").append($(\"<link/>\").attr({\n",
       "  rel:  \"stylesheet\",\n",
       "  type: \"text/css\",\n",
       "  href: \"//cdnjs.cloudflare.com/ajax/libs/font-awesome/4.1.0/css/font-awesome.min.css\"\n",
       "}));\n",
       "$(\"head\").append($(\"<link/>\").attr({\n",
       "  rel:  \"stylesheet\",\n",
       "  type: \"text/css\",\n",
       "  href: \"//dato.com/files/canvas/1.5.2/css/canvas.css\"\n",
       "}));\n",
       "\n",
       "            (function(){\n",
       "\n",
       "                var e = null;\n",
       "                if (typeof element == 'undefined') {\n",
       "                    var scripts = document.getElementsByTagName('script');\n",
       "                    var thisScriptTag = scripts[scripts.length-1];\n",
       "                    var parentDiv = thisScriptTag.parentNode;\n",
       "                    e = document.createElement('div');\n",
       "                    parentDiv.appendChild(e);\n",
       "                } else {\n",
       "                    e = element[0];\n",
       "                }\n",
       "\n",
       "                require(['//dato.com/files/canvas/1.5.2/js/ipython_app.js'], function(IPythonApp){\n",
       "                    var app = new IPythonApp();\n",
       "                    app.attachView('sarray','Images', {\"ipython\": true, \"rows\": [{\"format\": \"raw\", \"value\": [231, 222, 227, 232, 217, 221, 224, 206, 200, 194, 174, 171, 209, 189, 189, 198, 181, 178, 187, 172, 175, 176, 162, 170, 167, 153, 158, 157, 141, 144, 148, 129, 130, 144, 123, 121, 151, 132, 122, 129, 111, 105, 110, 94, 93, 101, 87, 89, 100, 89, 88, 116, 106, 110, 147, 140, 147, 174, 170, 173, 198, 196, 197, 216, 215, 217, 229, 227, 230, 235, 234, 236, 234, 231, 234, 227, 223, 227, 211, 210, 214, 181, 182, 188, 193, 197, 204, 204, 211, 215, 209, 216, 223, 215, 222, 231, 223, 213, 215, 221, 206, 205, 193, 174, 168, 148, 128, 124, 203, 182, 179, 211, 192, 185, 185, 166, 164, 191, 171, 171, 197, 178, 174, 203, 183, 178, 214, 192, 187, 216, 193, 187, 200, 179, 169, 193, 174, 166, 189, 172, 167, 187, 172, 168, 186, 175, 169, 211, 202, 203, 234, 228, 234, 237, 232, 236, 234, 231, 233, 224, 223, 225, 212, 210, 212, 203, 201, 204, 204, 201, 203, 211, 207, 209, 219, 218, 221, 215, 216, 220, 219, 222, 228, 227, 233, 237, 220, 226, 233, 216, 221, 230, 204, 192, 190, 211, 194, 188, 155, 135, 128, 102, 80, 76, 127, 105, 98, 126, 105, 92, 78, 54, 46, 106, 80, 72, 111, 85, 70, 101, 75, 61, 145, 120, 107, 160, 136, 124, 145, 123, 111, 181, 162, 150, 182, 164, 154, 186, 170, 160, 189, 178, 167, 207, 199, 195, 220, 214, 218, 217, 212, 216, 218, 215, 218, 225, 223, 226, 234, 232, 235, 240, 238, 241, 242, 240, 241, 242, 239, 238, 242, 242, 243, 228, 230, 233, 213, 217, 221, 217, 220, 225, 214, 216, 224, 213, 214, 225, 196, 183, 178, 205, 188, 178, 136, 114, 107, 110, 86, 81, 93, 69, 59, 120, 94, 78, 74, 45, 31, 114, 82, 67, 124, 90, 67, 117, 85, 63, 95, 67, 47, 81, 55, 38, 155, 131, 120, 207, 185, 172, 203, 184, 169, 204, 188, 172, 204, 194, 178, 221, 213, 206, 243, 236, 239, 250, 244, 250, 252, 249, 252, 250, 249, 252, 247, 245, 248, 245, 243, 246, 242, 239, 240, 238, 235, 232, 234, 234, 233, 219, 221, 222, 205, 208, 211, 212, 213, 218, 208, 208, 217, 205, 205, 216, 208, 195, 194, 202, 184, 172, 146, 122, 117, 133, 111, 107, 139, 120, 108, 168, 149, 129, 140, 115, 95, 153, 124, 100, 176, 148, 119, 185, 158, 131, 133, 107, 82, 129, 103, 80, 181, 156, 140, 209, 188, 172, 202, 185, 169, 207, 193, 175, 212, 201, 183, 230, 222, 213, 243, 238, 241, 243, 240, 245, 238, 237, 238, 240, 238, 240, 242, 240, 241, 239, 237, 238, 236, 234, 233, 233, 230, 226, 229, 228, 225, 216, 217, 218, 201, 205, 208, 206, 208, 213, 203, 204, 211, 201, 201, 211, 199, 186, 185, 203, 183, 165, 169, 146, 134, 159, 138, 133, 155, 142, 133, 155, 144, 129, 165, 147, 121, 201, 180, 142, 206, 188, 146, 181, 158, 124, 160, 133, 100, 196, 169, 133, 208, 181, 149, 207, 185, 160, 198, 181, 160, 200, 188, 165, 206, 193, 171, 222, 214, 203, 237, 235, 234, 237, 241, 240, 230, 232, 229, 232, 231, 228, 238, 237, 234, 234, 233, 230, 228, 227, 223, 227, 224, 219, 226, 219, 215, 192, 188, 189, 141, 142, 147, 128, 131, 136, 118, 121, 126, 130, 132, 138, 182, 160, 139, 196, 173, 144, 124, 105, 71, 116, 99, 62, 118, 102, 70, 120, 102, 75, 144, 120, 67, 191, 163, 97, 197, 168, 117, 166, 134, 95, 152, 122, 87, 205, 175, 138, 210, 181, 145, 205, 179, 152, 194, 172, 149, 190, 174, 149, 186, 177, 158, 201, 197, 187, 213, 213, 208, 205, 210, 203, 201, 203, 198, 211, 210, 208, 219, 218, 216, 224, 223, 220, 227, 225, 222, 224, 217, 212, 215, 203, 197, 102, 92, 90, 32, 28, 31, 41, 42, 47, 18, 19, 23, 20, 21, 26, 176, 146, 122, 189, 162, 139, 109, 92, 55, 69, 63, 24, 68, 60, 36, 58, 41, 30, 101, 81, 39, 147, 129, 75, 151, 136, 108, 130, 119, 104, 112, 107, 97, 122, 121, 110, 111, 109, 100, 114, 113, 112, 102, 103, 104, 92, 97, 94, 82, 87, 90, 83, 83, 91, 88, 86, 93, 79, 79, 83, 80, 80, 81, 93, 91, 91, 95, 93, 94, 108, 106, 107, 144, 141, 140, 201, 192, 187, 206, 191, 183, 88, 72, 67, 21, 9, 10, 20, 19, 22, 17, 17, 21, 16, 15, 19, 162, 134, 124, 183, 159, 149, 68, 54, 37, 14, 14, 7, 8, 8, 16, 38, 30, 48, 82, 75, 76, 96, 98, 90, 76, 90, 95, 73, 92, 107, 73, 98, 118, 74, 104, 122, 70, 99, 120, 69, 98, 125, 78, 108, 135, 71, 102, 125, 50, 71, 98, 37, 42, 67, 54, 49, 68, 53, 49, 64, 45, 43, 50, 41, 39, 41, 43, 41, 43, 59, 57, 60, 64, 61, 63, 113, 105, 103, 141, 125, 120, 86, 67, 62, 43, 29, 28, 17, 14, 16, 16, 15, 17, 17, 16, 18, 147, 131, 127, 149, 134, 121, 53, 44, 37, 20, 18, 19, 18, 15, 13, 76, 70, 71, 97, 98, 102, 66, 76, 84, 84, 100, 114, 82, 100, 121, 86, 108, 129, 105, 130, 148, 77, 102, 124, 71, 95, 122, 91, 114, 141, 108, 133, 155, 88, 115, 142, 58, 70, 91, 40, 35, 45, 37, 32, 37, 30, 28, 32, 26, 24, 29, 28, 26, 31, 36, 34, 38, 28, 27, 32, 51, 48, 51, 85, 72, 71, 82, 64, 63, 63, 49, 49, 17, 13, 13, 16, 13, 13, 17, 14, 14, 79, 73, 69, 101, 94, 80, 47, 40, 30, 17, 11, 14, 22, 16, 20, 64, 56, 62, 58, 53, 66, 31, 31, 44, 96, 99, 110, 122, 126, 140, 74, 79, 92, 78, 85, 96, 52, 61, 77, 45, 51, 71, 63, 66, 83, 86, 89, 104, 91, 106, 124, 64, 79, 93, 29, 27, 34, 49, 42, 42, 32, 31, 33, 20, 20, 26, 20, 19, 24, 24, 18, 23, 26, 19, 25, 31, 26, 31, 51, 36, 42, 72, 51, 53, 71, 49, 50, 33, 19, 21, 15, 10, 9, 19, 18, 17, 75, 62, 62, 107, 96, 93, 78, 68, 64, 48, 43, 40, 53, 50, 52, 72, 65, 73, 43, 33, 39, 33, 27, 32, 89, 91, 100, 150, 150, 160, 121, 119, 130, 90, 91, 103, 53, 63, 78, 37, 45, 60, 42, 44, 57, 52, 50, 63, 71, 75, 91, 83, 98, 112, 58, 59, 72, 94, 84, 90, 52, 50, 53, 22, 23, 29, 20, 20, 23, 31, 21, 25, 78, 64, 68, 71, 60, 64, 41, 24, 33, 56, 34, 40, 55, 30, 32, 38, 19, 21, 16, 10, 10, 19, 20, 21, 87, 64, 68, 107, 94, 101, 130, 124, 136, 106, 108, 112, 96, 98, 101, 92, 91, 98, 47, 44, 47, 42, 43, 45, 70, 77, 85, 105, 108, 118, 121, 118, 129, 104, 104, 116, 62, 79, 90, 53, 68, 78, 56, 66, 75, 48, 53, 63, 47, 54, 70, 79, 96, 111, 61, 64, 78, 53, 46, 51, 42, 39, 42, 23, 21, 26, 29, 27, 29, 46, 36, 39, 130, 116, 117, 113, 99, 102, 46, 32, 41, 48, 35, 45, 28, 16, 21, 28, 16, 16, 26, 22, 22, 36, 35, 38, 90, 76, 78, 131, 131, 142, 134, 147, 165, 117, 137, 154, 112, 132, 150, 101, 119, 138, 78, 94, 107, 63, 78, 87, 69, 82, 91, 65, 74, 85, 66, 70, 83, 68, 72, 86, 60, 72, 88, 60, 70, 84, 65, 69, 82, 70, 70, 84, 58, 65, 83, 67, 85, 102, 60, 64, 80, 39, 33, 41, 54, 50, 56, 46, 43, 51, 45, 45, 49, 54, 48, 51, 79, 67, 69, 92, 79, 83, 62, 53, 64, 50, 45, 58, 49, 49, 56, 51, 49, 51, 38, 36, 39, 36, 32, 38, 67, 59, 59, 90, 99, 107, 96, 119, 135, 95, 123, 148, 102, 131, 162, 112, 138, 168, 114, 139, 161, 104, 124, 141, 92, 107, 126, 81, 98, 116, 75, 94, 111, 64, 82, 100, 60, 77, 98, 57, 70, 91, 68, 76, 95, 82, 86, 105, 63, 71, 91, 43, 63, 80, 33, 39, 56, 49, 45, 54, 81, 79, 89, 58, 60, 73, 47, 53, 61, 50, 52, 60, 60, 56, 63, 68, 61, 70, 49, 45, 60, 44, 44, 55, 65, 70, 77, 65, 71, 82, 41, 39, 48, 31, 25, 29, 65, 52, 54, 43, 44, 52, 46, 58, 73, 63, 83, 107, 71, 92, 122, 87, 107, 136, 109, 128, 148, 118, 135, 154, 114, 131, 156, 114, 137, 160, 97, 130, 152, 79, 117, 139, 79, 115, 137, 78, 110, 131, 70, 97, 116, 60, 82, 102, 53, 71, 92, 44, 67, 87, 42, 50, 68, 56, 54, 63, 60, 61, 75, 43, 50, 68, 45, 57, 70, 54, 63, 75, 58, 62, 73, 41, 40, 55, 34, 33, 50, 30, 31, 42, 37, 43, 50, 52, 62, 80, 51, 49, 63, 64, 55, 56, 49, 38, 40, 43, 36, 39, 29, 29, 36, 48, 56, 72, 46, 58, 79, 41, 56, 79, 48, 65, 88, 71, 90, 112, 92, 111, 131, 105, 132, 151, 95, 137, 162, 71, 126, 158, 84, 139, 166, 115, 160, 180, 103, 144, 161, 73, 115, 134, 45, 88, 111, 47, 82, 106, 45, 60, 80, 56, 57, 65, 62, 62, 74, 52, 65, 82, 65, 75, 91, 71, 73, 85, 54, 56, 67, 35, 33, 51, 28, 27, 43, 25, 24, 36, 21, 23, 34, 55, 62, 76, 59, 50, 59, 54, 37, 37, 53, 37, 31, 58, 45, 41, 28, 24, 25, 49, 46, 57, 61, 57, 75, 52, 53, 74, 46, 52, 76, 45, 57, 82, 54, 71, 92, 67, 86, 107, 73, 104, 130, 69, 113, 146, 92, 142, 171, 118, 160, 182, 103, 141, 161, 67, 110, 132, 41, 87, 111, 50, 84, 110, 43, 58, 79, 39, 39, 47, 64, 59, 67, 62, 71, 83, 65, 72, 87, 61, 60, 73, 36, 38, 49, 29, 26, 43, 28, 26, 41, 26, 24, 37, 22, 22, 33, 36, 37, 45, 40, 27, 31, 25, 9, 10, 106, 78, 61, 93, 71, 60, 28, 18, 17, 31, 21, 27, 58, 45, 56, 58, 50, 64, 55, 51, 68, 48, 51, 74, 42, 50, 78, 41, 49, 72, 32, 42, 64, 34, 51, 74, 54, 84, 110, 74, 105, 129, 81, 111, 136, 76, 107, 133, 65, 97, 122, 55, 79, 105, 47, 58, 79, 62, 58, 68, 51, 39, 44, 54, 56, 61, 57, 61, 73, 52, 53, 67, 41, 45, 56, 35, 33, 45, 28, 26, 37, 27, 25, 33, 29, 27, 33, 36, 30, 31, 54, 42, 41, 41, 31, 31, 132, 97, 74, 113, 84, 67, 50, 32, 26, 34, 23, 19, 41, 31, 29, 46, 41, 41, 48, 47, 51, 48, 48, 60, 50, 50, 71, 45, 45, 63, 26, 22, 34, 52, 47, 56, 36, 45, 61, 40, 56, 76, 45, 64, 89, 45, 66, 91, 52, 70, 96, 68, 86, 111, 70, 81, 101, 74, 70, 81, 67, 51, 55, 55, 54, 56, 56, 57, 67, 51, 47, 58, 44, 43, 48, 66, 58, 62, 69, 61, 63, 53, 46, 45, 63, 55, 52, 78, 64, 58, 75, 61, 53, 34, 24, 21, 136, 100, 78, 128, 95, 75, 107, 83, 69, 94, 74, 63, 77, 59, 49, 55, 42, 35, 39, 31, 27, 38, 29, 32, 46, 38, 47, 43, 38, 46, 46, 36, 37, 86, 71, 66, 53, 45, 48, 36, 41, 54, 53, 66, 86, 54, 68, 88, 48, 60, 82, 46, 64, 85, 55, 73, 90, 48, 50, 60, 50, 38, 43, 41, 42, 45, 39, 38, 45, 55, 45, 51, 71, 61, 59, 82, 66, 60, 71, 55, 47, 83, 68, 57, 108, 92, 81, 88, 68, 58, 60, 43, 29, 33, 19, 7, 133, 99, 79, 127, 93, 74, 121, 93, 78, 120, 91, 78, 115, 86, 73, 101, 75, 64, 78, 55, 45, 54, 35, 27, 39, 26, 21, 34, 26, 23, 56, 45, 41, 93, 78, 69, 71, 58, 55, 22, 20, 27, 30, 37, 50, 45, 51, 65, 50, 56, 75, 67, 79, 98, 92, 102, 115, 70, 65, 72, 67, 52, 54, 57, 52, 51, 69, 60, 60, 97, 80, 78, 117, 102, 92, 102, 83, 71, 61, 40, 24, 88, 65, 44, 116, 92, 70, 84, 60, 40, 84, 62, 39, 84, 62, 40, 136, 101, 82, 126, 94, 77, 120, 92, 76, 120, 93, 79, 121, 93, 78, 120, 93, 75, 117, 91, 70, 102, 80, 59, 77, 60, 45, 54, 39, 29, 59, 45, 40, 104, 90, 88, 78, 68, 69, 20, 15, 18, 18, 16, 21, 29, 29, 36, 33, 32, 47, 60, 54, 67, 115, 103, 105, 120, 98, 93, 123, 101, 90, 119, 100, 88, 120, 100, 88, 116, 95, 82, 114, 95, 81, 103, 84, 66, 95, 71, 47, 116, 85, 53, 125, 92, 54, 120, 90, 55, 121, 93, 59, 122, 92, 61, 145, 111, 86, 136, 106, 84, 130, 102, 81, 126, 98, 81, 126, 99, 84, 125, 97, 80, 124, 97, 76, 122, 98, 77, 117, 96, 79, 104, 85, 71, 75, 57, 49, 101, 86, 82, 86, 78, 76, 20, 14, 15, 16, 12, 14, 18, 16, 20, 22, 21, 24, 38, 33, 30, 91, 78, 67, 118, 100, 82, 118, 100, 85, 107, 89, 78, 82, 65, 54, 65, 48, 37, 81, 61, 45, 93, 66, 42, 98, 69, 40, 108, 75, 40, 117, 82, 46, 125, 93, 59, 132, 99, 66, 131, 99, 63, 147, 116, 86, 143, 113, 85, 142, 112, 83, 136, 106, 84, 129, 100, 83, 128, 98, 80, 128, 98, 80, 126, 98, 79, 124, 97, 79, 121, 97, 80, 106, 84, 69, 83, 63, 53, 50, 37, 32, 19, 9, 6, 18, 11, 8, 20, 13, 13, 20, 14, 13, 23, 16, 11, 36, 26, 17, 56, 44, 31, 57, 45, 34, 50, 37, 30, 37, 24, 17, 34, 22, 15, 58, 42, 30, 76, 55, 36, 81, 59, 37, 87, 65, 40, 95, 71, 43, 109, 75, 45, 127, 92, 59, 135, 101, 64, 134, 105, 76, 133, 102, 73, 139, 107, 76, 144, 114, 86, 142, 111, 87, 133, 102, 79, 129, 98, 77, 128, 96, 76, 127, 95, 74, 124, 94, 74, 124, 96, 76, 106, 82, 62, 65, 44, 31, 51, 33, 21, 45, 29, 17, 36, 22, 13, 34, 19, 18, 33, 19, 19, 28, 15, 14, 25, 13, 10, 27, 15, 9, 32, 20, 13, 40, 27, 21, 50, 38, 31, 62, 50, 43, 67, 56, 44, 65, 52, 37, 70, 56, 37, 96, 76, 52, 124, 90, 57, 138, 102, 66, 141, 107, 68, 136, 107, 83, 127, 96, 68, 135, 101, 72, 141, 109, 76, 144, 114, 80, 141, 110, 80, 134, 103, 76, 131, 97, 74, 131, 95, 73, 129, 94, 72, 126, 95, 70, 132, 103, 77, 126, 97, 73, 113, 86, 63, 103, 78, 57, 88, 64, 46, 72, 48, 37, 59, 37, 28, 52, 34, 26, 48, 35, 26, 49, 36, 27, 52, 37, 29, 54, 40, 31, 62, 47, 39, 72, 57, 48, 79, 64, 50, 93, 74, 53, 115, 90, 61, 135, 104, 68, 144, 107, 67, 145, 108, 68, 146, 109, 71, 133, 100, 74, 129, 95, 68, 139, 103, 74, 141, 107, 74, 143, 110, 74, 144, 110, 77, 140, 106, 75, 137, 103, 75, 134, 100, 74, 130, 97, 70, 129, 97, 71, 133, 102, 76, 130, 99, 74, 125, 95, 71, 123, 93, 70, 120, 91, 69, 113, 85, 65, 102, 75, 57, 88, 64, 46, 76, 55, 38, 69, 52, 39, 67, 50, 39, 70, 51, 34, 78, 56, 35, 97, 72, 47, 118, 90, 61, 137, 105, 72, 148, 113, 75, 148, 110, 69, 144, 109, 69, 144, 109, 71, 145, 110, 74, 126, 89, 57, 135, 99, 67, 139, 103, 71, 141, 105, 73, 141, 105, 73, 142, 106, 74, 143, 107, 74, 140, 106, 73, 136, 105, 73, 136, 105, 75, 134, 103, 76, 133, 101, 77, 128, 98, 74, 124, 93, 70, 123, 92, 69, 123, 92, 69, 122, 94, 71, 122, 94, 71, 119, 91, 68, 109, 81, 58, 92, 71, 51, 91, 72, 51, 109, 83, 56, 128, 97, 64, 140, 107, 70, 145, 111, 72, 145, 111, 72, 145, 111, 72, 148, 114, 75, 147, 114, 79, 147, 114, 79, 145, 113, 78, 131, 93, 58, 135, 98, 64, 140, 103, 68, 146, 109, 75, 148, 111, 77, 147, 110, 76, 145, 108, 74, 141, 106, 72, 140, 106, 74, 143, 110, 80, 143, 109, 82, 140, 107, 81, 134, 102, 76, 130, 99, 72, 130, 99, 73, 130, 99, 73, 128, 100, 70, 128, 100, 70, 130, 102, 73, 133, 105, 75, 132, 107, 73, 135, 109, 73, 145, 115, 79, 152, 117, 81, 151, 116, 79, 146, 113, 75, 146, 113, 75, 147, 114, 76, 149, 116, 79, 150, 117, 83, 150, 117, 84, 149, 116, 83, 128, 89, 51, 133, 94, 56, 142, 103, 65, 148, 108, 72, 149, 109, 75, 148, 108, 73, 147, 107, 72, 145, 108, 73, 143, 109, 74, 144, 109, 78, 144, 109, 80, 146, 111, 83, 143, 110, 81, 143, 110, 80, 144, 111, 82, 145, 113, 83, 145, 114, 80, 146, 116, 81, 150, 120, 84, 154, 124, 89, 156, 127, 85, 157, 127, 82, 156, 123, 82, 156, 120, 83, 154, 120, 83, 149, 119, 82, 147, 116, 80, 146, 115, 78, 145, 114, 78, 145, 112, 81, 148, 114, 83, 148, 115, 84, 130, 88, 47, 132, 91, 50, 139, 97, 57, 143, 101, 63, 145, 103, 68, 146, 104, 69, 146, 103, 68, 143, 103, 67, 142, 105, 70, 143, 107, 74, 144, 106, 76, 145, 108, 79, 146, 111, 79, 148, 114, 81, 151, 116, 84, 151, 117, 84, 152, 119, 85, 155, 122, 88, 157, 124, 90, 157, 125, 90, 157, 125, 88, 158, 125, 88, 158, 125, 89, 156, 122, 88, 152, 120, 85, 149, 119, 84, 148, 118, 83, 147, 118, 82, 146, 116, 82, 145, 112, 83, 144, 110, 82, 144, 110, 82], \"height\": 32, \"channels\": 3, \"width\": 32, \"type\": \"image\", \"id\": 139714697102992}, {\"format\": \"raw\", \"value\": [107, 117, 133, 98, 107, 114, 113, 121, 120, 124, 128, 125, 135, 135, 134, 146, 144, 141, 134, 130, 125, 145, 141, 135, 165, 165, 157, 161, 160, 151, 156, 153, 141, 147, 141, 128, 135, 127, 114, 131, 124, 110, 129, 122, 107, 137, 129, 115, 168, 161, 148, 154, 150, 146, 85, 89, 94, 84, 91, 101, 120, 124, 136, 155, 157, 174, 188, 190, 204, 213, 216, 223, 224, 228, 229, 218, 221, 219, 182, 186, 185, 146, 155, 158, 164, 177, 184, 190, 207, 214, 212, 226, 225, 248, 251, 253, 110, 121, 122, 104, 113, 112, 130, 137, 134, 150, 153, 149, 161, 162, 157, 167, 167, 160, 148, 145, 137, 139, 136, 125, 146, 145, 130, 141, 139, 122, 134, 130, 111, 131, 124, 105, 128, 120, 103, 131, 122, 106, 135, 127, 110, 149, 140, 123, 185, 177, 163, 168, 162, 157, 55, 57, 60, 25, 30, 40, 30, 34, 46, 42, 47, 64, 62, 68, 87, 94, 99, 118, 138, 144, 162, 181, 189, 200, 210, 219, 225, 215, 224, 231, 225, 234, 237, 214, 226, 224, 186, 201, 193, 232, 241, 239, 125, 135, 128, 126, 134, 128, 155, 160, 154, 158, 161, 154, 155, 157, 147, 152, 152, 141, 151, 149, 136, 133, 130, 115, 126, 124, 105, 133, 130, 110, 139, 133, 111, 139, 131, 108, 142, 132, 113, 143, 131, 115, 146, 135, 119, 151, 140, 123, 176, 165, 151, 175, 167, 160, 61, 62, 64, 25, 29, 37, 31, 34, 42, 32, 39, 44, 31, 39, 45, 37, 44, 53, 51, 58, 69, 68, 77, 87, 95, 106, 116, 171, 180, 190, 216, 224, 225, 188, 198, 190, 197, 213, 204, 219, 232, 229, 143, 151, 145, 129, 135, 127, 142, 145, 137, 128, 131, 120, 130, 132, 119, 136, 137, 122, 140, 139, 122, 130, 127, 109, 136, 132, 114, 144, 139, 120, 148, 141, 120, 150, 140, 118, 149, 137, 117, 145, 133, 115, 146, 133, 115, 155, 143, 124, 178, 166, 150, 178, 169, 161, 62, 61, 61, 24, 25, 32, 28, 28, 35, 30, 34, 36, 33, 38, 39, 37, 42, 44, 44, 48, 50, 48, 55, 58, 51, 60, 71, 144, 152, 164, 227, 236, 237, 171, 183, 173, 209, 223, 220, 235, 251, 249, 128, 134, 129, 121, 125, 117, 125, 128, 117, 129, 132, 119, 135, 137, 123, 139, 139, 123, 147, 145, 127, 140, 137, 117, 145, 139, 121, 147, 139, 121, 150, 140, 121, 152, 141, 121, 152, 139, 120, 149, 136, 117, 144, 131, 112, 153, 141, 122, 181, 169, 151, 179, 170, 160, 59, 59, 59, 20, 22, 29, 25, 25, 31, 27, 27, 35, 32, 32, 39, 36, 37, 42, 44, 45, 47, 50, 55, 55, 59, 66, 73, 140, 148, 160, 197, 209, 212, 162, 177, 171, 220, 233, 234, 214, 232, 232, 152, 159, 146, 145, 150, 139, 138, 141, 127, 141, 141, 128, 142, 138, 128, 140, 136, 123, 152, 148, 131, 146, 141, 121, 151, 141, 120, 151, 140, 120, 151, 140, 121, 148, 136, 118, 152, 138, 121, 153, 140, 122, 145, 133, 115, 145, 133, 115, 171, 160, 141, 172, 164, 150, 56, 58, 60, 15, 21, 28, 22, 25, 28, 25, 27, 32, 30, 32, 38, 32, 34, 39, 39, 41, 46, 46, 51, 53, 55, 64, 66, 115, 126, 131, 167, 182, 187, 186, 202, 205, 220, 233, 235, 192, 209, 211, 204, 218, 207, 184, 192, 183, 150, 154, 139, 144, 143, 128, 147, 140, 130, 140, 134, 121, 152, 146, 130, 145, 138, 121, 143, 134, 117, 149, 139, 122, 149, 139, 123, 145, 135, 119, 149, 139, 121, 153, 140, 122, 145, 130, 112, 143, 124, 107, 168, 151, 134, 169, 160, 147, 58, 57, 59, 16, 18, 25, 24, 25, 28, 27, 30, 33, 25, 28, 33, 22, 25, 30, 31, 34, 38, 37, 41, 47, 40, 46, 54, 65, 72, 82, 86, 95, 107, 121, 133, 145, 194, 207, 215, 182, 198, 202, 155, 175, 182, 92, 103, 109, 91, 95, 93, 136, 133, 124, 143, 137, 126, 138, 133, 121, 156, 151, 138, 156, 151, 139, 144, 138, 129, 138, 132, 122, 131, 126, 114, 122, 117, 104, 122, 117, 99, 126, 117, 99, 130, 114, 98, 140, 116, 103, 167, 147, 134, 168, 160, 150, 65, 60, 61, 21, 18, 24, 30, 29, 32, 28, 30, 34, 26, 29, 34, 33, 36, 41, 46, 49, 54, 73, 76, 81, 120, 124, 130, 130, 134, 140, 92, 97, 104, 52, 60, 68, 124, 137, 149, 201, 215, 221, 167, 186, 205, 67, 77, 95, 46, 49, 60, 94, 93, 92, 139, 137, 130, 159, 157, 151, 167, 165, 159, 172, 170, 166, 157, 156, 156, 148, 147, 145, 166, 165, 159, 146, 146, 136, 107, 109, 95, 114, 114, 99, 126, 119, 107, 134, 121, 111, 143, 133, 123, 147, 146, 138, 62, 58, 57, 22, 19, 21, 31, 32, 34, 22, 25, 29, 30, 33, 38, 43, 46, 51, 45, 48, 53, 74, 80, 81, 156, 165, 162, 208, 216, 211, 201, 207, 202, 126, 133, 131, 79, 92, 102, 155, 169, 175, 164, 180, 184, 104, 114, 120, 74, 81, 83, 108, 114, 110, 169, 173, 171, 160, 165, 166, 152, 156, 160, 156, 160, 167, 149, 152, 160, 148, 151, 155, 192, 196, 194, 215, 220, 213, 149, 158, 149, 121, 131, 122, 121, 129, 121, 125, 131, 124, 128, 135, 128, 125, 133, 126, 77, 77, 72, 32, 32, 29, 19, 25, 24, 26, 30, 34, 58, 61, 66, 75, 78, 82, 74, 76, 81, 71, 82, 86, 100, 114, 118, 171, 182, 183, 210, 218, 217, 201, 209, 208, 118, 131, 133, 91, 107, 113, 200, 211, 204, 186, 197, 194, 180, 191, 185, 164, 174, 168, 142, 150, 150, 122, 129, 132, 123, 130, 135, 122, 128, 135, 123, 127, 137, 120, 124, 131, 133, 138, 140, 199, 204, 203, 208, 216, 214, 165, 174, 172, 125, 137, 132, 117, 130, 125, 124, 137, 132, 129, 138, 134, 127, 130, 128, 93, 95, 95, 39, 46, 46, 38, 43, 48, 63, 66, 73, 72, 76, 83, 74, 77, 85, 70, 80, 91, 66, 79, 93, 104, 115, 127, 150, 159, 169, 173, 181, 188, 165, 179, 178, 141, 157, 161, 161, 170, 171, 156, 166, 173, 158, 170, 177, 129, 140, 143, 111, 119, 119, 102, 110, 111, 102, 110, 111, 98, 105, 107, 102, 106, 110, 108, 112, 115, 108, 112, 115, 145, 149, 152, 214, 216, 221, 214, 216, 221, 166, 171, 173, 136, 144, 145, 140, 147, 149, 132, 135, 141, 101, 104, 110, 96, 98, 104, 85, 88, 95, 78, 82, 91, 75, 79, 90, 69, 73, 85, 70, 74, 86, 62, 69, 80, 50, 59, 69, 60, 69, 79, 92, 101, 110, 119, 130, 138, 136, 151, 155, 150, 165, 169, 131, 143, 141, 121, 133, 142, 116, 131, 143, 118, 132, 141, 111, 121, 127, 106, 116, 122, 103, 113, 119, 100, 110, 114, 89, 95, 96, 61, 66, 67, 62, 67, 68, 97, 102, 103, 159, 162, 173, 171, 175, 191, 126, 132, 147, 101, 110, 124, 101, 109, 122, 109, 113, 126, 96, 100, 113, 95, 99, 112, 104, 108, 121, 111, 116, 130, 114, 120, 134, 124, 130, 144, 141, 147, 161, 131, 138, 149, 102, 111, 120, 62, 71, 80, 46, 55, 64, 58, 68, 77, 69, 83, 90, 75, 89, 96, 121, 134, 128, 82, 95, 104, 82, 98, 113, 84, 98, 112, 89, 101, 113, 96, 108, 120, 100, 112, 124, 104, 115, 127, 101, 106, 119, 84, 89, 102, 62, 66, 79, 75, 80, 93, 114, 119, 138, 133, 138, 162, 137, 144, 169, 133, 143, 170, 127, 137, 162, 121, 127, 149, 114, 120, 141, 108, 114, 135, 105, 111, 133, 111, 117, 138, 117, 124, 142, 128, 135, 152, 149, 156, 171, 172, 180, 191, 190, 199, 208, 163, 172, 181, 109, 118, 127, 65, 74, 82, 50, 61, 67, 53, 65, 72, 89, 98, 95, 32, 42, 52, 40, 51, 66, 44, 56, 70, 44, 54, 69, 50, 60, 75, 56, 66, 80, 68, 77, 94, 80, 86, 109, 83, 88, 113, 73, 78, 103, 68, 73, 98, 75, 79, 102, 86, 90, 115, 104, 109, 138, 126, 133, 165, 139, 147, 180, 146, 154, 185, 150, 158, 189, 136, 144, 175, 127, 135, 166, 138, 145, 173, 148, 156, 180, 159, 167, 187, 171, 180, 195, 189, 197, 208, 201, 210, 219, 208, 217, 226, 199, 208, 217, 161, 170, 177, 102, 113, 113, 53, 64, 66, 75, 77, 81, 33, 37, 48, 38, 44, 55, 39, 46, 58, 37, 43, 59, 37, 43, 58, 34, 40, 55, 42, 48, 64, 48, 56, 72, 49, 57, 73, 47, 55, 71, 46, 53, 69, 56, 58, 75, 69, 68, 88, 68, 69, 95, 85, 88, 118, 102, 108, 143, 123, 133, 170, 134, 144, 182, 142, 152, 190, 152, 162, 199, 167, 176, 209, 180, 189, 217, 183, 193, 214, 192, 203, 219, 200, 210, 221, 203, 212, 221, 201, 210, 219, 201, 210, 220, 206, 215, 220, 179, 190, 182, 80, 90, 86, 54, 55, 58, 66, 67, 70, 74, 79, 80, 33, 41, 46, 32, 40, 51, 36, 43, 54, 39, 44, 56, 40, 45, 55, 40, 49, 54, 41, 49, 55, 39, 47, 54, 38, 44, 53, 46, 48, 60, 49, 48, 62, 29, 31, 47, 25, 28, 46, 36, 40, 63, 64, 70, 99, 108, 115, 147, 123, 132, 167, 132, 142, 180, 138, 149, 186, 145, 158, 193, 157, 172, 202, 170, 188, 215, 182, 195, 213, 194, 201, 211, 197, 205, 213, 186, 194, 205, 181, 189, 199, 203, 214, 211, 110, 117, 115, 41, 47, 40, 92, 95, 86, 103, 110, 103, 31, 42, 41, 23, 35, 39, 27, 36, 41, 29, 35, 41, 31, 36, 42, 33, 40, 43, 37, 42, 47, 38, 41, 50, 38, 40, 51, 41, 41, 53, 32, 33, 43, 13, 14, 23, 20, 23, 29, 25, 27, 35, 22, 21, 36, 43, 45, 66, 70, 77, 104, 92, 99, 129, 135, 127, 148, 141, 131, 150, 131, 128, 147, 136, 139, 159, 150, 157, 172, 167, 175, 182, 194, 204, 207, 179, 188, 193, 166, 176, 185, 203, 215, 219, 132, 138, 137, 61, 66, 52, 112, 114, 104, 115, 120, 119, 33, 42, 45, 28, 36, 39, 29, 35, 38, 28, 31, 36, 30, 32, 36, 27, 30, 33, 28, 30, 35, 29, 32, 38, 29, 32, 41, 32, 34, 44, 21, 21, 30, 20, 21, 27, 49, 50, 53, 60, 60, 63, 43, 43, 49, 22, 24, 36, 40, 48, 66, 75, 81, 99, 140, 118, 116, 156, 129, 124, 142, 125, 125, 149, 139, 143, 146, 150, 161, 161, 174, 184, 183, 198, 199, 176, 191, 190, 155, 171, 171, 180, 199, 197, 127, 137, 129, 88, 92, 71, 117, 118, 105, 124, 127, 127, 29, 35, 38, 28, 32, 34, 31, 33, 35, 27, 27, 30, 28, 26, 29, 26, 24, 27, 26, 25, 29, 24, 26, 31, 22, 27, 33, 24, 27, 36, 16, 17, 24, 37, 36, 39, 96, 94, 92, 110, 107, 103, 70, 69, 68, 28, 30, 34, 30, 36, 47, 55, 63, 77, 71, 74, 85, 77, 83, 97, 80, 95, 116, 96, 119, 146, 105, 124, 154, 125, 139, 163, 137, 153, 165, 130, 146, 154, 91, 110, 115, 146, 169, 164, 133, 144, 134, 106, 109, 85, 95, 94, 78, 81, 83, 79, 18, 21, 21, 38, 39, 37, 44, 43, 42, 34, 30, 30, 27, 22, 22, 22, 16, 17, 19, 17, 19, 19, 21, 24, 22, 27, 31, 22, 27, 34, 16, 17, 22, 65, 63, 62, 127, 122, 115, 136, 130, 123, 108, 105, 101, 40, 41, 42, 15, 20, 28, 29, 36, 48, 37, 42, 53, 39, 45, 59, 43, 54, 73, 60, 74, 98, 68, 80, 111, 76, 85, 113, 74, 85, 103, 56, 67, 84, 43, 56, 72, 104, 122, 123, 133, 143, 135, 123, 125, 101, 105, 103, 84, 68, 69, 59, 44, 47, 41, 63, 63, 57, 54, 51, 46, 37, 31, 27, 29, 21, 19, 23, 14, 15, 14, 9, 10, 8, 9, 11, 13, 19, 22, 23, 28, 34, 20, 21, 25, 81, 78, 75, 132, 124, 115, 124, 116, 107, 122, 118, 116, 57, 56, 59, 11, 15, 24, 26, 33, 47, 31, 40, 56, 29, 38, 55, 29, 36, 56, 33, 39, 63, 33, 40, 60, 54, 62, 74, 48, 56, 64, 34, 41, 52, 54, 62, 77, 103, 115, 121, 122, 128, 125, 128, 132, 107, 111, 113, 93, 114, 117, 102, 91, 93, 81, 83, 83, 72, 71, 69, 59, 62, 56, 46, 52, 46, 38, 40, 37, 31, 28, 26, 23, 17, 17, 16, 11, 13, 15, 12, 15, 20, 12, 14, 17, 77, 75, 73, 150, 144, 136, 148, 141, 134, 125, 120, 121, 64, 63, 70, 8, 13, 27, 28, 36, 55, 38, 47, 70, 36, 44, 68, 37, 44, 68, 41, 46, 72, 35, 40, 58, 69, 76, 85, 57, 64, 71, 45, 52, 59, 101, 108, 115, 126, 133, 133, 132, 139, 134, 129, 135, 111, 111, 116, 97, 120, 124, 108, 98, 101, 86, 89, 90, 76, 89, 87, 74, 87, 81, 69, 85, 79, 67, 78, 77, 65, 67, 65, 56, 56, 53, 48, 46, 43, 40, 33, 32, 31, 19, 19, 17, 62, 60, 57, 147, 145, 140, 165, 161, 154, 123, 120, 113, 55, 57, 55, 9, 14, 19, 21, 30, 41, 35, 44, 60, 37, 45, 63, 42, 50, 68, 48, 56, 74, 37, 44, 59, 45, 51, 64, 55, 62, 72, 73, 81, 88, 111, 118, 121, 136, 142, 136, 159, 166, 159, 137, 141, 123, 112, 116, 100, 118, 123, 108, 103, 105, 91, 90, 90, 77, 95, 93, 80, 92, 86, 74, 93, 87, 74, 100, 94, 79, 93, 86, 73, 89, 81, 70, 82, 75, 64, 70, 63, 53, 54, 49, 39, 45, 43, 37, 112, 113, 110, 148, 148, 141, 112, 111, 97, 41, 42, 33, 7, 11, 8, 4, 11, 12, 8, 15, 22, 13, 20, 28, 18, 24, 32, 22, 29, 37, 21, 27, 35, 28, 33, 41, 42, 48, 53, 56, 63, 66, 85, 92, 91, 132, 137, 131, 165, 172, 165, 152, 156, 143, 137, 140, 127, 133, 138, 124, 107, 109, 95, 94, 94, 80, 96, 94, 81, 98, 93, 81, 100, 94, 81, 100, 91, 75, 102, 93, 76, 107, 98, 81, 105, 96, 78, 97, 89, 70, 86, 79, 63, 67, 64, 54, 60, 60, 56, 89, 89, 86, 65, 64, 58, 17, 17, 14, 7, 8, 10, 6, 7, 12, 8, 11, 12, 9, 13, 13, 7, 10, 10, 8, 12, 12, 10, 14, 15, 16, 20, 22, 31, 35, 35, 44, 49, 46, 63, 68, 63, 113, 119, 113, 169, 176, 169, 165, 168, 161, 152, 155, 146, 132, 136, 123, 119, 122, 108, 116, 117, 103, 111, 109, 96, 114, 109, 97, 110, 104, 91, 100, 92, 78, 113, 105, 89, 123, 116, 96, 116, 109, 88, 107, 102, 80, 100, 95, 76, 98, 93, 80, 86, 81, 73, 65, 61, 56, 47, 46, 42, 33, 32, 30, 26, 24, 25, 26, 24, 25, 28, 28, 26, 22, 23, 19, 18, 18, 15, 21, 21, 17, 22, 24, 21, 28, 30, 27, 39, 42, 37, 56, 59, 51, 70, 74, 65, 104, 109, 103, 172, 179, 172, 171, 174, 170, 150, 153, 146, 142, 146, 136, 140, 142, 129, 134, 135, 120, 137, 135, 122, 136, 131, 118, 120, 115, 102, 119, 115, 102, 132, 128, 113, 137, 133, 114, 118, 115, 94, 118, 117, 96, 109, 107, 88, 114, 109, 93, 119, 110, 98, 116, 109, 97, 93, 92, 77, 79, 77, 64, 69, 66, 54, 59, 54, 45, 54, 52, 47, 46, 45, 40, 44, 42, 38, 47, 46, 41, 42, 42, 37, 44, 46, 39, 55, 57, 48, 72, 75, 63, 84, 88, 76, 115, 121, 114, 169, 176, 169, 174, 181, 176, 170, 175, 170, 163, 166, 161, 148, 150, 140, 146, 148, 132, 154, 154, 137, 150, 147, 129, 134, 129, 111, 132, 129, 113, 133, 131, 114, 134, 131, 114, 120, 117, 100, 126, 124, 107, 121, 118, 101, 120, 116, 99, 126, 120, 103, 128, 122, 105, 119, 113, 95, 105, 98, 82, 93, 85, 72, 81, 73, 62, 73, 65, 58, 77, 70, 63, 75, 69, 62, 71, 67, 59, 66, 65, 54, 63, 63, 50, 69, 70, 58, 84, 86, 74, 92, 97, 86, 128, 137, 130, 164, 173, 165, 172, 182, 177, 168, 175, 171, 172, 176, 173, 171, 175, 166, 164, 166, 151, 158, 159, 141, 166, 165, 145, 154, 151, 132, 132, 129, 115, 129, 126, 111, 128, 126, 108, 124, 122, 103, 127, 122, 103, 122, 116, 96, 126, 119, 100, 133, 127, 106, 131, 125, 104, 128, 122, 101, 116, 109, 91, 105, 97, 82, 94, 86, 73, 89, 80, 68, 89, 81, 69, 87, 82, 69, 82, 79, 66, 80, 78, 63, 81, 81, 66, 89, 91, 77, 95, 98, 86, 104, 110, 100, 135, 145, 137, 158, 169, 161, 183, 196, 189, 166, 177, 171, 166, 174, 170, 170, 177, 168, 164, 168, 153, 159, 161, 145, 173, 173, 155, 158, 157, 140, 136, 133, 124, 134, 132, 119, 134, 133, 113, 136, 136, 111, 139, 134, 108, 145, 137, 112, 148, 140, 117, 145, 136, 115, 148, 141, 119, 136, 132, 106, 119, 115, 91, 106, 101, 80, 106, 101, 82, 104, 98, 81, 101, 95, 78, 98, 96, 78, 94, 94, 75, 94, 95, 78, 102, 103, 88, 105, 108, 94, 106, 111, 99, 125, 133, 122, 136, 148, 139, 138, 151, 142, 196, 214, 206, 182, 197, 190, 164, 176, 170, 155, 164, 155, 160, 166, 152, 167, 171, 157, 164, 166, 149, 152, 152, 137, 145, 145, 135, 146, 147, 133, 148, 150, 129, 147, 150, 124, 152, 149, 121, 155, 149, 121, 142, 136, 112, 139, 132, 112, 142, 137, 116, 132, 130, 104, 123, 120, 97, 119, 117, 96, 119, 115, 96, 120, 116, 98, 115, 112, 94, 105, 105, 86, 105, 107, 88, 106, 108, 90, 109, 112, 97, 111, 116, 101, 120, 128, 114, 138, 148, 137, 136, 151, 141, 143, 159, 149], \"height\": 32, \"channels\": 3, \"width\": 32, \"type\": \"image\", \"id\": 139714697103056}, {\"format\": \"raw\", \"value\": [255, 255, 255, 219, 222, 229, 167, 171, 185, 170, 174, 188, 169, 173, 183, 140, 145, 151, 99, 104, 106, 77, 84, 86, 84, 93, 98, 79, 88, 93, 65, 74, 79, 47, 56, 60, 44, 55, 56, 51, 62, 62, 59, 71, 71, 59, 71, 71, 81, 92, 92, 65, 75, 76, 78, 88, 89, 95, 105, 106, 97, 105, 105, 97, 100, 99, 105, 108, 107, 94, 97, 96, 70, 74, 72, 53, 60, 55, 49, 57, 51, 62, 70, 64, 71, 78, 72, 68, 75, 71, 59, 65, 63, 52, 58, 56, 240, 243, 246, 204, 209, 217, 153, 160, 173, 163, 169, 181, 152, 156, 165, 111, 116, 122, 85, 90, 92, 74, 81, 83, 87, 96, 101, 79, 88, 93, 60, 69, 74, 54, 63, 67, 44, 53, 55, 48, 57, 59, 47, 55, 57, 54, 62, 64, 82, 92, 93, 57, 67, 68, 64, 74, 75, 97, 107, 108, 102, 111, 111, 88, 93, 92, 92, 98, 96, 78, 84, 82, 63, 69, 67, 48, 58, 54, 42, 52, 48, 45, 55, 51, 58, 68, 64, 65, 73, 70, 62, 68, 66, 60, 66, 64, 209, 213, 222, 173, 180, 190, 128, 138, 148, 151, 158, 169, 119, 123, 133, 88, 93, 99, 76, 81, 83, 65, 72, 74, 67, 75, 80, 73, 82, 87, 58, 67, 72, 54, 62, 67, 49, 56, 59, 49, 55, 57, 43, 48, 51, 41, 46, 49, 40, 48, 49, 37, 47, 48, 50, 60, 61, 76, 86, 87, 87, 97, 97, 80, 89, 86, 86, 95, 92, 67, 76, 73, 49, 59, 55, 38, 50, 47, 37, 50, 46, 41, 53, 50, 41, 54, 50, 46, 55, 52, 48, 54, 52, 51, 57, 55, 180, 185, 199, 147, 156, 167, 117, 130, 139, 124, 132, 142, 90, 94, 104, 77, 81, 87, 68, 73, 75, 61, 68, 70, 53, 62, 67, 51, 60, 65, 49, 58, 63, 46, 54, 59, 44, 47, 51, 40, 43, 46, 41, 43, 47, 38, 41, 44, 30, 37, 39, 26, 37, 37, 43, 53, 53, 61, 71, 72, 70, 80, 79, 66, 78, 74, 60, 71, 67, 45, 56, 52, 36, 47, 43, 33, 47, 45, 36, 51, 49, 38, 52, 51, 30, 45, 43, 31, 41, 39, 42, 47, 45, 43, 49, 47, 123, 130, 143, 124, 133, 143, 106, 120, 127, 81, 91, 99, 66, 73, 81, 70, 77, 82, 65, 71, 74, 61, 68, 70, 50, 59, 62, 45, 54, 57, 47, 55, 59, 46, 54, 57, 50, 53, 56, 40, 41, 44, 45, 47, 50, 39, 40, 43, 36, 42, 45, 33, 43, 45, 47, 57, 58, 57, 66, 68, 46, 57, 57, 50, 61, 59, 45, 57, 55, 31, 43, 40, 44, 57, 55, 59, 73, 75, 55, 69, 71, 66, 80, 80, 25, 38, 38, 19, 29, 26, 29, 36, 32, 30, 37, 33, 83, 93, 99, 89, 99, 104, 84, 94, 100, 53, 68, 69, 52, 69, 67, 59, 72, 73, 53, 61, 67, 48, 55, 60, 40, 50, 49, 42, 51, 50, 53, 61, 60, 50, 57, 57, 58, 64, 64, 47, 53, 52, 53, 59, 58, 54, 60, 59, 41, 49, 51, 44, 54, 57, 49, 59, 61, 50, 61, 61, 37, 49, 48, 39, 53, 51, 33, 48, 46, 32, 49, 46, 52, 70, 68, 58, 77, 82, 59, 76, 79, 77, 91, 88, 42, 52, 44, 40, 53, 42, 42, 57, 45, 43, 56, 44, 68, 82, 84, 66, 81, 82, 63, 77, 79, 46, 63, 62, 45, 64, 61, 58, 72, 74, 65, 75, 82, 63, 73, 81, 51, 66, 70, 55, 69, 73, 65, 79, 83, 65, 79, 83, 65, 79, 83, 61, 76, 80, 69, 84, 88, 80, 94, 98, 50, 67, 65, 54, 74, 66, 49, 70, 58, 52, 73, 59, 58, 80, 64, 52, 76, 59, 53, 78, 61, 72, 96, 79, 73, 99, 83, 67, 98, 85, 69, 99, 82, 73, 101, 78, 74, 99, 71, 74, 95, 72, 69, 87, 70, 65, 83, 65, 67, 85, 83, 65, 83, 81, 66, 83, 82, 73, 89, 88, 121, 136, 137, 162, 175, 179, 175, 187, 195, 149, 162, 172, 112, 132, 143, 98, 120, 130, 91, 115, 124, 84, 110, 118, 78, 104, 112, 81, 107, 115, 91, 116, 125, 101, 127, 135, 79, 108, 101, 75, 106, 86, 67, 98, 73, 67, 99, 69, 81, 114, 81, 80, 115, 81, 80, 113, 79, 84, 114, 81, 82, 110, 80, 79, 104, 84, 75, 99, 80, 74, 98, 74, 71, 95, 68, 65, 86, 61, 64, 85, 62, 61, 85, 61, 105, 119, 116, 103, 117, 114, 96, 110, 106, 151, 164, 164, 209, 220, 224, 221, 233, 239, 216, 230, 239, 166, 182, 194, 117, 137, 151, 90, 115, 128, 86, 115, 126, 69, 103, 113, 57, 90, 100, 66, 99, 109, 74, 106, 116, 99, 131, 142, 97, 130, 128, 74, 107, 92, 63, 98, 75, 63, 99, 67, 71, 109, 72, 72, 109, 71, 71, 104, 68, 68, 96, 61, 66, 88, 58, 69, 75, 65, 61, 65, 60, 56, 62, 54, 57, 65, 55, 56, 73, 51, 65, 89, 60, 70, 100, 69, 159, 165, 162, 155, 161, 158, 156, 162, 159, 193, 199, 202, 214, 222, 230, 225, 237, 245, 220, 235, 246, 160, 177, 191, 121, 136, 151, 85, 107, 120, 67, 98, 108, 54, 89, 98, 43, 77, 86, 52, 85, 94, 61, 95, 104, 70, 103, 112, 91, 122, 129, 71, 101, 101, 69, 102, 90, 73, 107, 84, 76, 112, 83, 80, 115, 83, 84, 112, 83, 70, 90, 64, 52, 64, 41, 53, 58, 41, 47, 54, 37, 42, 52, 35, 49, 64, 46, 58, 79, 51, 67, 95, 60, 72, 107, 70, 149, 151, 151, 151, 155, 155, 190, 194, 195, 172, 179, 184, 175, 185, 194, 181, 194, 206, 187, 203, 217, 155, 172, 187, 123, 139, 153, 102, 122, 135, 74, 101, 112, 55, 87, 96, 47, 77, 87, 47, 76, 86, 49, 79, 89, 51, 80, 90, 82, 109, 122, 82, 107, 119, 65, 90, 92, 88, 111, 104, 117, 140, 127, 121, 143, 126, 123, 139, 123, 116, 124, 109, 107, 111, 95, 104, 111, 88, 103, 114, 88, 95, 110, 83, 86, 105, 77, 85, 105, 76, 85, 107, 77, 81, 110, 77, 144, 147, 150, 140, 146, 151, 164, 173, 180, 181, 194, 202, 141, 157, 166, 94, 110, 123, 111, 126, 142, 141, 159, 175, 128, 150, 164, 122, 145, 158, 93, 117, 130, 73, 97, 110, 61, 84, 98, 55, 78, 92, 48, 71, 85, 53, 76, 90, 65, 90, 105, 71, 94, 108, 70, 86, 97, 98, 107, 115, 126, 133, 137, 136, 143, 141, 142, 146, 143, 152, 153, 147, 157, 156, 149, 155, 152, 146, 149, 146, 138, 140, 139, 127, 138, 138, 123, 136, 141, 126, 131, 140, 124, 127, 137, 120, 131, 134, 137, 114, 121, 127, 97, 107, 116, 130, 143, 151, 142, 157, 166, 135, 149, 161, 112, 126, 141, 118, 134, 149, 139, 161, 175, 131, 153, 167, 114, 136, 150, 105, 126, 141, 111, 128, 144, 98, 114, 130, 71, 87, 104, 54, 70, 86, 57, 78, 93, 73, 95, 109, 97, 113, 126, 123, 132, 144, 137, 146, 156, 116, 129, 136, 89, 100, 105, 104, 111, 114, 129, 135, 136, 145, 150, 149, 149, 151, 148, 150, 147, 142, 153, 145, 139, 153, 150, 141, 150, 149, 139, 151, 150, 140, 125, 129, 132, 94, 100, 106, 64, 73, 82, 67, 79, 86, 78, 92, 98, 121, 134, 144, 133, 146, 159, 114, 127, 143, 154, 173, 188, 145, 163, 178, 133, 152, 167, 122, 140, 156, 131, 145, 162, 132, 143, 161, 118, 129, 147, 103, 115, 132, 99, 118, 133, 109, 132, 145, 120, 138, 152, 127, 142, 157, 120, 136, 152, 87, 107, 123, 58, 77, 90, 57, 73, 84, 67, 81, 90, 93, 107, 110, 115, 123, 125, 139, 139, 141, 152, 145, 146, 151, 143, 140, 150, 142, 137, 151, 143, 138, 124, 128, 131, 98, 105, 111, 69, 79, 87, 53, 65, 70, 48, 60, 64, 50, 61, 69, 61, 71, 82, 99, 111, 125, 165, 181, 197, 168, 184, 200, 142, 158, 174, 121, 137, 153, 116, 131, 148, 124, 138, 155, 131, 145, 162, 122, 136, 153, 112, 131, 146, 105, 127, 140, 101, 122, 137, 101, 120, 139, 90, 110, 131, 51, 73, 94, 28, 49, 67, 36, 54, 70, 39, 56, 69, 43, 59, 69, 49, 60, 68, 79, 83, 90, 138, 137, 143, 151, 144, 146, 149, 141, 139, 152, 143, 141, 121, 125, 128, 112, 119, 125, 96, 106, 114, 47, 57, 62, 47, 57, 60, 48, 57, 63, 40, 49, 58, 51, 61, 74, 115, 129, 145, 172, 186, 203, 172, 185, 202, 138, 152, 169, 105, 124, 139, 92, 113, 128, 100, 121, 136, 101, 122, 136, 89, 111, 124, 82, 103, 117, 75, 97, 114, 70, 93, 115, 68, 90, 113, 51, 71, 92, 26, 44, 63, 25, 40, 56, 30, 42, 57, 35, 45, 61, 36, 45, 60, 34, 43, 54, 74, 83, 92, 140, 140, 142, 150, 145, 144, 149, 144, 143, 118, 121, 126, 120, 125, 131, 123, 129, 137, 50, 58, 63, 35, 43, 47, 33, 40, 46, 35, 42, 50, 45, 50, 60, 47, 52, 64, 95, 107, 119, 165, 180, 193, 169, 184, 198, 133, 151, 166, 92, 113, 129, 75, 99, 115, 70, 97, 114, 64, 90, 106, 60, 84, 101, 54, 77, 97, 47, 70, 93, 41, 63, 85, 38, 59, 75, 30, 48, 63, 21, 36, 49, 19, 31, 43, 23, 30, 48, 27, 35, 51, 31, 42, 54, 39, 53, 61, 96, 101, 104, 146, 144, 143, 147, 144, 142, 114, 117, 125, 116, 119, 126, 122, 125, 132, 48, 52, 58, 39, 44, 51, 31, 36, 42, 30, 36, 42, 56, 56, 63, 29, 26, 33, 36, 47, 53, 91, 109, 115, 142, 158, 168, 160, 174, 190, 125, 143, 160, 70, 95, 113, 45, 75, 95, 37, 67, 87, 35, 63, 82, 34, 59, 80, 32, 54, 76, 25, 44, 64, 20, 36, 53, 19, 33, 48, 18, 28, 41, 40, 48, 60, 39, 46, 62, 20, 28, 42, 28, 38, 48, 28, 40, 47, 53, 58, 62, 131, 131, 133, 143, 141, 141, 111, 114, 121, 108, 111, 118, 82, 84, 92, 24, 28, 34, 30, 35, 41, 44, 49, 55, 37, 42, 48, 35, 36, 43, 33, 33, 39, 61, 73, 78, 52, 69, 76, 70, 83, 93, 116, 133, 144, 132, 153, 165, 95, 123, 136, 50, 84, 99, 30, 62, 79, 26, 54, 72, 21, 47, 66, 22, 45, 65, 19, 37, 58, 17, 29, 51, 15, 25, 46, 15, 22, 40, 41, 46, 63, 46, 54, 69, 18, 26, 39, 16, 25, 33, 16, 23, 30, 40, 46, 51, 105, 109, 112, 128, 130, 130, 108, 111, 118, 106, 109, 116, 89, 92, 99, 58, 62, 69, 31, 36, 42, 34, 39, 45, 43, 49, 55, 28, 32, 38, 46, 49, 54, 121, 134, 139, 57, 72, 80, 35, 45, 56, 55, 70, 79, 94, 115, 122, 98, 126, 134, 87, 119, 129, 45, 76, 89, 32, 60, 75, 28, 54, 70, 25, 48, 65, 23, 46, 64, 19, 45, 63, 19, 43, 60, 22, 42, 57, 24, 42, 54, 29, 40, 51, 24, 32, 42, 18, 22, 29, 22, 23, 29, 42, 47, 49, 67, 72, 72, 80, 82, 80, 107, 110, 117, 106, 109, 116, 103, 106, 113, 92, 96, 102, 66, 71, 77, 35, 40, 46, 29, 34, 40, 25, 30, 35, 59, 66, 70, 162, 177, 181, 73, 86, 94, 38, 43, 55, 42, 49, 57, 56, 69, 74, 68, 87, 93, 81, 106, 113, 70, 99, 109, 54, 83, 95, 53, 79, 92, 50, 73, 87, 44, 69, 83, 35, 67, 77, 31, 60, 68, 25, 51, 57, 20, 43, 48, 24, 37, 45, 23, 30, 38, 21, 23, 28, 22, 18, 23, 69, 68, 66, 109, 110, 102, 104, 102, 93, 107, 110, 117, 105, 108, 115, 105, 108, 115, 98, 102, 108, 88, 93, 98, 68, 73, 79, 41, 46, 52, 22, 27, 32, 62, 71, 74, 150, 165, 169, 92, 104, 113, 22, 24, 36, 24, 23, 31, 36, 39, 44, 39, 48, 54, 48, 62, 70, 59, 83, 92, 58, 85, 96, 53, 78, 89, 45, 68, 80, 35, 54, 66, 28, 42, 51, 23, 35, 43, 22, 31, 36, 23, 31, 35, 33, 43, 49, 33, 40, 46, 25, 25, 30, 27, 19, 24, 77, 71, 65, 134, 129, 116, 148, 140, 125, 106, 109, 116, 102, 105, 112, 104, 107, 114, 100, 103, 109, 94, 99, 103, 90, 94, 98, 73, 77, 81, 36, 41, 46, 71, 81, 85, 162, 176, 180, 123, 133, 140, 26, 26, 35, 16, 11, 18, 16, 13, 18, 16, 15, 21, 21, 22, 28, 30, 38, 45, 35, 46, 54, 45, 54, 63, 22, 31, 41, 17, 24, 33, 29, 31, 39, 34, 36, 43, 37, 38, 44, 40, 40, 46, 40, 42, 47, 31, 32, 37, 30, 29, 34, 36, 35, 39, 78, 77, 76, 105, 105, 100, 115, 113, 108, 105, 108, 115, 102, 105, 112, 103, 106, 113, 100, 103, 108, 97, 101, 104, 95, 99, 102, 89, 93, 96, 64, 68, 72, 81, 88, 94, 169, 182, 185, 130, 138, 143, 32, 30, 38, 18, 12, 19, 20, 15, 21, 18, 13, 19, 20, 14, 20, 37, 34, 41, 40, 39, 47, 45, 44, 52, 21, 20, 28, 17, 17, 25, 35, 37, 44, 41, 43, 50, 33, 36, 43, 27, 29, 36, 25, 22, 28, 21, 19, 24, 34, 33, 38, 76, 79, 82, 88, 93, 96, 87, 91, 94, 93, 97, 101, 104, 107, 114, 102, 105, 112, 103, 106, 113, 101, 104, 109, 99, 103, 106, 97, 101, 104, 94, 98, 101, 84, 88, 92, 78, 83, 89, 161, 172, 176, 115, 121, 127, 25, 21, 30, 18, 13, 19, 19, 14, 20, 19, 14, 20, 19, 14, 20, 20, 16, 24, 19, 17, 26, 18, 16, 24, 16, 14, 23, 16, 15, 23, 20, 20, 28, 22, 21, 29, 17, 17, 25, 18, 17, 25, 23, 19, 25, 20, 17, 22, 28, 28, 33, 85, 88, 91, 120, 124, 127, 114, 118, 121, 101, 105, 108, 105, 108, 115, 103, 106, 113, 104, 107, 114, 102, 105, 110, 99, 103, 106, 99, 103, 106, 98, 102, 105, 94, 97, 101, 79, 82, 89, 117, 125, 131, 88, 91, 98, 20, 14, 23, 20, 14, 21, 19, 14, 20, 19, 14, 20, 18, 13, 19, 18, 13, 21, 19, 13, 23, 19, 13, 23, 17, 12, 22, 22, 18, 28, 26, 24, 32, 15, 14, 22, 17, 16, 24, 18, 16, 24, 19, 15, 21, 19, 16, 21, 21, 21, 26, 38, 41, 44, 77, 81, 84, 114, 118, 121, 136, 140, 143, 105, 108, 115, 104, 107, 114, 104, 107, 114, 103, 106, 111, 100, 104, 107, 100, 104, 107, 99, 103, 106, 98, 100, 105, 94, 94, 102, 68, 74, 80, 34, 35, 43, 20, 12, 22, 19, 12, 20, 18, 13, 19, 19, 14, 20, 19, 14, 20, 20, 13, 22, 21, 12, 23, 21, 12, 23, 21, 12, 23, 22, 15, 25, 21, 17, 27, 17, 13, 22, 17, 13, 23, 18, 14, 23, 22, 17, 23, 23, 21, 26, 29, 29, 33, 40, 43, 47, 52, 56, 59, 67, 71, 74, 91, 95, 98, 105, 108, 115, 104, 107, 114, 104, 107, 114, 104, 107, 112, 102, 106, 109, 100, 104, 108, 100, 104, 107, 102, 104, 108, 100, 100, 107, 88, 92, 98, 58, 57, 65, 37, 28, 38, 26, 20, 27, 20, 17, 22, 18, 14, 19, 18, 14, 19, 20, 13, 21, 21, 12, 23, 21, 12, 23, 21, 12, 23, 20, 12, 22, 17, 12, 22, 17, 12, 21, 20, 15, 24, 24, 19, 28, 31, 27, 33, 40, 38, 44, 47, 47, 51, 52, 55, 59, 60, 64, 67, 68, 71, 75, 73, 77, 80, 104, 107, 114, 103, 106, 113, 103, 106, 113, 104, 107, 114, 102, 106, 112, 101, 104, 110, 101, 104, 110, 101, 103, 109, 99, 102, 106, 92, 96, 100, 89, 91, 96, 75, 75, 80, 57, 58, 62, 41, 42, 46, 27, 29, 33, 20, 22, 26, 17, 16, 21, 18, 15, 22, 19, 16, 23, 20, 17, 23, 20, 18, 24, 20, 21, 26, 21, 23, 28, 28, 29, 34, 36, 37, 42, 43, 44, 51, 53, 55, 61, 61, 63, 69, 64, 67, 73, 68, 71, 77, 71, 74, 80, 77, 80, 86, 103, 106, 113, 103, 106, 113, 102, 105, 112, 102, 105, 112, 102, 105, 113, 102, 105, 112, 102, 105, 112, 99, 102, 108, 98, 102, 106, 95, 100, 102, 91, 95, 98, 89, 93, 96, 83, 87, 90, 71, 75, 78, 59, 63, 66, 47, 51, 54, 37, 38, 42, 32, 31, 36, 28, 27, 32, 30, 29, 34, 33, 34, 38, 36, 40, 43, 42, 46, 49, 46, 50, 53, 51, 55, 58, 56, 59, 66, 61, 64, 71, 65, 68, 75, 71, 74, 81, 75, 78, 85, 76, 79, 86, 77, 81, 88, 103, 106, 113, 102, 105, 112, 101, 104, 111, 98, 101, 108, 102, 105, 112, 103, 106, 113, 100, 103, 110, 98, 101, 107, 98, 102, 105, 100, 104, 106, 96, 100, 103, 91, 94, 97, 90, 94, 97, 88, 92, 95, 83, 87, 90, 77, 81, 84, 71, 72, 77, 65, 64, 69, 57, 56, 61, 55, 54, 59, 56, 57, 61, 58, 62, 65, 60, 64, 67, 62, 66, 69, 64, 68, 72, 65, 68, 74, 68, 71, 78, 71, 74, 81, 74, 77, 84, 78, 81, 88, 80, 83, 90, 82, 85, 92, 103, 106, 114, 102, 105, 112, 100, 103, 110, 98, 101, 108, 99, 102, 109, 101, 104, 111, 101, 104, 111, 99, 102, 108, 99, 103, 106, 99, 103, 106, 100, 104, 107, 96, 100, 103, 93, 97, 100, 92, 96, 99, 90, 94, 97, 87, 91, 94, 86, 87, 91, 85, 84, 89, 80, 80, 85, 74, 73, 78, 70, 71, 75, 70, 74, 77, 72, 76, 79, 72, 76, 79, 74, 77, 81, 75, 78, 85, 75, 78, 85, 76, 79, 86, 78, 81, 88, 80, 83, 90, 81, 84, 91, 84, 87, 94], \"height\": 32, \"channels\": 3, \"width\": 32, \"type\": \"image\", \"id\": 139714697103248}, {\"format\": \"raw\", \"value\": [139, 149, 118, 140, 148, 119, 156, 166, 128, 113, 119, 94, 101, 91, 84, 162, 151, 140, 105, 110, 123, 95, 103, 107, 113, 116, 131, 114, 116, 136, 109, 112, 132, 96, 102, 117, 90, 96, 102, 87, 93, 99, 144, 144, 148, 171, 167, 171, 171, 167, 172, 175, 169, 172, 181, 175, 178, 193, 186, 190, 209, 201, 208, 215, 209, 219, 221, 216, 228, 226, 223, 235, 220, 216, 231, 242, 242, 242, 248, 249, 247, 246, 247, 246, 248, 249, 248, 249, 251, 251, 251, 251, 251, 238, 238, 241, 170, 177, 164, 174, 179, 161, 197, 202, 168, 132, 138, 113, 97, 93, 86, 194, 186, 164, 195, 198, 170, 187, 190, 162, 191, 193, 167, 183, 184, 163, 168, 172, 155, 164, 167, 153, 155, 160, 144, 140, 147, 134, 165, 165, 159, 191, 186, 178, 198, 191, 186, 210, 200, 197, 221, 211, 206, 229, 219, 215, 236, 226, 225, 235, 226, 228, 235, 228, 230, 236, 232, 231, 230, 228, 227, 247, 246, 241, 241, 241, 239, 243, 243, 241, 249, 251, 249, 248, 251, 251, 249, 251, 251, 242, 243, 244, 168, 179, 174, 180, 186, 187, 205, 209, 197, 139, 144, 125, 97, 93, 85, 215, 207, 167, 228, 229, 176, 230, 231, 181, 239, 241, 180, 230, 231, 182, 213, 215, 177, 206, 208, 174, 203, 205, 173, 195, 196, 170, 193, 191, 169, 215, 212, 181, 224, 221, 181, 232, 228, 181, 237, 233, 184, 231, 228, 179, 227, 225, 180, 226, 225, 188, 220, 221, 187, 208, 211, 184, 202, 206, 190, 203, 211, 191, 195, 205, 191, 198, 211, 199, 210, 223, 216, 230, 237, 239, 214, 224, 226, 196, 208, 209, 178, 194, 164, 184, 194, 170, 199, 206, 184, 134, 141, 120, 98, 91, 86, 212, 201, 164, 205, 206, 160, 178, 179, 153, 187, 189, 167, 198, 200, 194, 193, 194, 198, 181, 182, 191, 179, 179, 191, 179, 176, 190, 179, 176, 191, 195, 193, 198, 203, 202, 194, 209, 206, 192, 209, 209, 180, 213, 215, 169, 211, 215, 158, 207, 213, 158, 204, 211, 159, 195, 205, 161, 200, 206, 186, 185, 198, 158, 182, 198, 157, 180, 201, 161, 199, 215, 200, 239, 244, 245, 204, 213, 218, 159, 167, 176, 157, 158, 148, 173, 173, 155, 183, 183, 159, 119, 125, 106, 99, 94, 88, 202, 192, 169, 162, 167, 140, 121, 124, 118, 123, 128, 132, 140, 146, 159, 131, 135, 156, 124, 126, 142, 127, 132, 144, 127, 133, 151, 130, 136, 159, 135, 142, 161, 147, 153, 175, 163, 171, 207, 173, 183, 208, 181, 185, 186, 181, 180, 161, 190, 191, 158, 215, 218, 167, 214, 217, 174, 203, 204, 199, 228, 233, 172, 231, 238, 164, 231, 242, 169, 239, 246, 214, 254, 255, 253, 207, 210, 219, 183, 171, 167, 134, 133, 156, 144, 153, 155, 144, 150, 153, 104, 111, 111, 108, 100, 91, 172, 160, 156, 111, 115, 110, 111, 113, 97, 117, 124, 99, 124, 131, 127, 100, 103, 117, 92, 103, 105, 92, 102, 96, 85, 91, 87, 90, 97, 96, 102, 112, 110, 118, 129, 131, 155, 170, 187, 173, 190, 219, 183, 194, 214, 171, 174, 174, 148, 147, 154, 166, 166, 171, 195, 192, 187, 190, 188, 201, 232, 236, 182, 226, 232, 167, 231, 241, 164, 235, 243, 200, 248, 252, 249, 184, 191, 194, 197, 181, 153, 121, 138, 159, 104, 102, 104, 123, 112, 123, 89, 95, 98, 99, 93, 83, 150, 138, 129, 110, 114, 89, 110, 113, 81, 116, 126, 92, 124, 132, 113, 100, 102, 115, 88, 101, 107, 81, 94, 90, 74, 77, 72, 76, 82, 72, 85, 92, 85, 101, 109, 98, 131, 139, 130, 146, 161, 172, 181, 201, 221, 178, 190, 193, 158, 156, 162, 144, 142, 162, 179, 173, 186, 185, 185, 197, 187, 197, 171, 187, 198, 186, 164, 182, 153, 190, 204, 182, 231, 241, 241, 142, 163, 174, 156, 143, 150, 86, 100, 117, 93, 78, 77, 109, 76, 81, 79, 76, 75, 81, 75, 71, 115, 103, 107, 103, 96, 83, 100, 104, 78, 106, 115, 88, 95, 101, 80, 92, 96, 101, 77, 85, 92, 70, 77, 81, 72, 77, 77, 75, 83, 74, 78, 85, 74, 90, 96, 84, 101, 107, 97, 119, 129, 128, 159, 178, 194, 178, 201, 219, 173, 179, 178, 188, 185, 189, 181, 172, 186, 182, 177, 192, 152, 166, 154, 141, 161, 147, 137, 163, 141, 160, 183, 168, 183, 197, 198, 112, 143, 155, 127, 150, 167, 70, 78, 87, 81, 84, 84, 80, 81, 84, 77, 76, 75, 63, 61, 59, 99, 89, 90, 102, 77, 77, 82, 80, 78, 76, 81, 79, 79, 80, 75, 89, 90, 98, 71, 77, 94, 64, 70, 82, 66, 69, 71, 75, 78, 74, 81, 84, 81, 90, 93, 87, 106, 110, 97, 116, 124, 113, 143, 152, 156, 172, 183, 205, 169, 174, 185, 206, 200, 204, 197, 188, 200, 185, 180, 201, 165, 168, 182, 157, 166, 168, 149, 165, 160, 144, 163, 158, 133, 150, 146, 130, 151, 141, 154, 174, 170, 75, 83, 89, 63, 69, 59, 67, 71, 66, 75, 76, 74, 87, 89, 91, 111, 100, 99, 122, 105, 97, 80, 77, 71, 54, 55, 59, 72, 70, 73, 91, 90, 97, 75, 76, 95, 75, 77, 90, 80, 80, 90, 88, 87, 99, 95, 95, 110, 108, 109, 122, 128, 130, 139, 136, 137, 155, 139, 140, 164, 148, 142, 169, 174, 165, 185, 210, 200, 212, 220, 211, 221, 210, 206, 221, 205, 202, 225, 220, 219, 231, 216, 217, 228, 214, 218, 227, 176, 185, 202, 157, 166, 185, 174, 181, 192, 77, 89, 90, 56, 64, 54, 60, 63, 51, 75, 76, 70, 105, 110, 109, 111, 111, 102, 125, 120, 113, 114, 109, 97, 84, 80, 70, 80, 77, 67, 107, 106, 104, 109, 110, 117, 116, 117, 131, 128, 131, 149, 140, 143, 170, 156, 157, 188, 180, 177, 209, 202, 196, 226, 214, 207, 233, 213, 211, 229, 214, 208, 221, 230, 215, 224, 235, 222, 228, 236, 225, 233, 243, 234, 239, 237, 236, 238, 220, 218, 224, 217, 213, 220, 242, 240, 243, 232, 233, 244, 204, 206, 232, 192, 199, 222, 75, 88, 67, 71, 80, 60, 73, 77, 58, 63, 63, 51, 81, 81, 74, 115, 114, 98, 115, 115, 105, 116, 112, 95, 113, 107, 85, 102, 98, 78, 104, 102, 84, 108, 105, 97, 112, 111, 114, 121, 122, 130, 133, 135, 153, 154, 153, 177, 184, 176, 203, 209, 195, 220, 218, 205, 226, 220, 214, 229, 227, 219, 235, 227, 218, 233, 229, 220, 231, 236, 224, 236, 237, 226, 234, 231, 227, 232, 239, 237, 240, 224, 221, 225, 210, 206, 219, 208, 209, 224, 213, 214, 225, 212, 215, 232, 128, 140, 88, 137, 144, 90, 144, 147, 105, 130, 129, 122, 99, 97, 98, 100, 101, 84, 107, 108, 85, 112, 108, 78, 122, 112, 87, 121, 111, 90, 105, 101, 77, 104, 102, 88, 106, 104, 101, 106, 105, 107, 111, 111, 119, 122, 122, 136, 135, 135, 155, 149, 147, 171, 159, 157, 179, 170, 167, 185, 191, 182, 195, 195, 188, 202, 195, 192, 209, 208, 205, 224, 208, 206, 227, 205, 207, 229, 231, 236, 247, 242, 245, 248, 222, 223, 231, 197, 200, 222, 185, 190, 213, 198, 200, 212, 107, 120, 76, 129, 140, 112, 167, 174, 171, 221, 220, 223, 144, 142, 146, 78, 78, 68, 89, 91, 70, 93, 90, 66, 109, 99, 78, 124, 111, 92, 112, 108, 95, 111, 113, 113, 120, 121, 131, 126, 127, 140, 122, 122, 136, 116, 116, 128, 114, 115, 128, 119, 121, 141, 130, 131, 154, 141, 142, 161, 156, 155, 170, 161, 161, 175, 164, 165, 180, 170, 172, 191, 180, 183, 210, 195, 200, 228, 217, 225, 243, 217, 222, 240, 229, 229, 240, 239, 240, 246, 206, 207, 224, 174, 177, 197, 67, 83, 57, 69, 84, 72, 96, 103, 108, 179, 183, 172, 144, 147, 123, 75, 74, 65, 75, 74, 59, 78, 76, 58, 90, 82, 66, 110, 100, 85, 118, 110, 97, 114, 114, 109, 120, 123, 135, 135, 135, 156, 138, 142, 157, 131, 135, 148, 124, 124, 141, 120, 117, 128, 121, 119, 124, 127, 126, 134, 135, 136, 150, 136, 136, 152, 135, 133, 151, 135, 137, 157, 145, 144, 166, 159, 157, 191, 166, 167, 213, 159, 161, 205, 193, 195, 222, 240, 242, 246, 241, 239, 242, 190, 192, 212, 69, 84, 56, 66, 79, 50, 65, 78, 49, 85, 95, 67, 101, 105, 70, 81, 81, 74, 97, 94, 88, 79, 74, 62, 78, 71, 58, 92, 86, 69, 97, 90, 73, 103, 97, 80, 111, 109, 104, 118, 122, 138, 130, 131, 150, 137, 137, 146, 137, 137, 149, 130, 131, 143, 126, 123, 122, 133, 127, 120, 145, 143, 144, 132, 131, 139, 100, 98, 119, 108, 108, 126, 121, 114, 134, 147, 140, 187, 165, 164, 221, 157, 156, 207, 168, 173, 209, 224, 228, 243, 252, 251, 250, 216, 218, 224, 67, 81, 62, 70, 80, 60, 71, 79, 58, 64, 75, 53, 61, 70, 53, 64, 67, 64, 117, 116, 113, 110, 108, 89, 76, 71, 55, 84, 77, 63, 68, 62, 54, 59, 55, 51, 95, 90, 78, 121, 116, 123, 156, 142, 159, 151, 148, 165, 140, 144, 155, 133, 135, 142, 136, 134, 140, 134, 128, 120, 142, 139, 132, 142, 141, 149, 103, 98, 120, 109, 102, 122, 122, 115, 135, 149, 141, 179, 183, 178, 215, 189, 184, 221, 183, 183, 217, 203, 211, 235, 230, 233, 244, 197, 198, 208, 60, 74, 59, 59, 70, 55, 59, 68, 52, 57, 63, 48, 52, 56, 43, 42, 46, 41, 57, 57, 53, 100, 98, 83, 95, 91, 75, 80, 73, 60, 60, 54, 46, 44, 40, 40, 70, 65, 57, 125, 114, 105, 166, 139, 136, 171, 160, 174, 166, 169, 187, 151, 150, 155, 143, 142, 149, 138, 137, 135, 141, 137, 125, 152, 150, 148, 118, 115, 133, 109, 103, 122, 122, 114, 133, 139, 134, 162, 170, 161, 195, 196, 189, 218, 221, 219, 237, 217, 220, 236, 207, 211, 231, 169, 181, 201, 55, 67, 55, 56, 66, 52, 58, 65, 52, 56, 60, 48, 52, 55, 41, 41, 46, 32, 37, 40, 28, 65, 62, 51, 89, 84, 72, 77, 71, 60, 59, 52, 43, 52, 46, 44, 59, 52, 50, 99, 93, 79, 134, 123, 119, 150, 143, 149, 154, 156, 167, 151, 150, 160, 143, 144, 162, 139, 140, 154, 146, 144, 138, 151, 150, 145, 135, 132, 145, 108, 103, 127, 116, 110, 131, 132, 128, 156, 160, 154, 187, 197, 192, 219, 237, 233, 242, 244, 241, 244, 234, 233, 241, 202, 208, 220, 54, 65, 55, 56, 64, 54, 58, 65, 53, 56, 60, 48, 52, 56, 42, 48, 54, 40, 44, 49, 35, 43, 44, 31, 61, 58, 49, 72, 67, 57, 58, 52, 42, 55, 49, 48, 51, 47, 50, 81, 76, 64, 114, 109, 100, 124, 124, 129, 136, 138, 145, 143, 140, 146, 147, 142, 153, 152, 145, 155, 164, 155, 152, 169, 159, 152, 167, 155, 156, 151, 139, 149, 151, 142, 149, 166, 159, 174, 194, 186, 206, 226, 218, 231, 241, 237, 245, 246, 244, 247, 246, 246, 246, 223, 221, 222, 55, 68, 59, 57, 66, 60, 57, 64, 55, 55, 60, 49, 54, 58, 45, 51, 56, 45, 49, 53, 41, 45, 48, 34, 43, 44, 31, 55, 52, 42, 55, 50, 41, 53, 48, 47, 50, 45, 49, 64, 61, 54, 107, 99, 89, 126, 120, 108, 136, 130, 119, 148, 140, 130, 163, 151, 142, 174, 158, 147, 185, 165, 153, 191, 172, 161, 195, 177, 170, 198, 183, 178, 204, 193, 189, 197, 189, 194, 197, 194, 207, 206, 212, 229, 193, 211, 236, 195, 207, 224, 209, 208, 210, 178, 176, 179, 53, 69, 59, 56, 66, 60, 59, 66, 60, 57, 63, 55, 55, 60, 50, 53, 57, 46, 51, 54, 43, 50, 52, 38, 43, 45, 31, 42, 42, 30, 47, 43, 35, 52, 47, 46, 52, 46, 50, 56, 51, 48, 96, 85, 70, 124, 109, 83, 135, 121, 92, 144, 129, 103, 156, 138, 116, 162, 145, 126, 165, 148, 133, 167, 154, 143, 169, 158, 155, 170, 164, 163, 175, 174, 175, 141, 142, 152, 142, 162, 188, 158, 191, 227, 140, 175, 213, 142, 160, 185, 145, 144, 152, 134, 137, 148, 54, 67, 60, 54, 65, 59, 59, 68, 64, 58, 67, 60, 57, 62, 54, 54, 59, 50, 54, 57, 46, 52, 54, 41, 48, 49, 38, 42, 44, 30, 43, 42, 30, 52, 47, 43, 53, 48, 48, 51, 46, 43, 83, 75, 63, 114, 100, 79, 125, 108, 82, 130, 112, 86, 134, 115, 91, 135, 116, 98, 135, 120, 103, 135, 122, 108, 136, 124, 115, 133, 126, 119, 129, 127, 121, 100, 99, 102, 160, 170, 182, 177, 191, 213, 154, 169, 189, 140, 147, 162, 153, 153, 164, 153, 155, 162, 54, 67, 63, 55, 66, 60, 58, 67, 62, 53, 63, 54, 52, 57, 50, 51, 57, 51, 54, 58, 48, 56, 57, 46, 52, 53, 41, 48, 49, 37, 44, 44, 31, 50, 46, 38, 56, 50, 46, 49, 44, 40, 70, 65, 53, 106, 93, 74, 113, 97, 78, 112, 100, 88, 108, 96, 84, 109, 95, 81, 94, 84, 76, 91, 84, 79, 92, 85, 82, 89, 84, 83, 81, 77, 77, 71, 71, 73, 156, 155, 158, 175, 175, 184, 159, 160, 173, 198, 199, 204, 190, 189, 196, 114, 114, 115, 56, 66, 66, 54, 64, 60, 55, 68, 60, 51, 63, 53, 51, 58, 52, 52, 56, 51, 49, 54, 48, 50, 55, 48, 51, 54, 45, 51, 52, 41, 47, 48, 37, 50, 48, 42, 56, 50, 48, 46, 43, 39, 60, 54, 46, 99, 86, 68, 106, 93, 74, 96, 92, 86, 77, 73, 73, 95, 87, 80, 64, 59, 61, 57, 51, 58, 60, 57, 60, 58, 55, 64, 58, 56, 66, 61, 63, 73, 97, 98, 106, 180, 177, 179, 213, 211, 213, 168, 170, 169, 99, 103, 104, 69, 75, 69, 58, 69, 70, 59, 70, 68, 57, 68, 61, 53, 65, 55, 55, 63, 56, 55, 61, 54, 50, 56, 47, 48, 54, 46, 51, 54, 47, 50, 51, 42, 47, 48, 41, 49, 48, 44, 54, 48, 47, 49, 45, 40, 53, 46, 40, 76, 65, 55, 94, 83, 69, 94, 87, 82, 85, 80, 80, 110, 104, 102, 101, 97, 101, 92, 88, 96, 95, 93, 103, 97, 100, 105, 102, 105, 112, 113, 115, 122, 133, 133, 136, 132, 132, 135, 104, 107, 104, 76, 82, 75, 66, 77, 65, 69, 80, 69, 61, 76, 78, 60, 75, 73, 58, 68, 63, 58, 68, 60, 57, 67, 57, 57, 65, 57, 55, 62, 52, 53, 58, 49, 53, 56, 50, 51, 52, 46, 47, 47, 41, 47, 47, 39, 52, 49, 44, 53, 48, 43, 49, 45, 40, 52, 46, 41, 65, 56, 50, 75, 67, 58, 88, 79, 70, 96, 87, 79, 107, 95, 85, 118, 108, 89, 130, 120, 95, 130, 121, 94, 108, 102, 86, 90, 89, 77, 78, 84, 66, 66, 72, 65, 63, 69, 66, 62, 70, 63, 60, 72, 63, 63, 74, 65, 63, 78, 82, 59, 74, 72, 56, 69, 63, 59, 70, 62, 58, 69, 60, 59, 69, 64, 60, 66, 62, 58, 63, 56, 57, 60, 54, 55, 56, 49, 51, 52, 43, 47, 49, 39, 48, 47, 41, 50, 47, 44, 49, 48, 45, 49, 49, 39, 55, 50, 42, 57, 52, 42, 60, 54, 47, 63, 58, 50, 83, 72, 57, 114, 101, 68, 135, 122, 76, 122, 111, 79, 91, 86, 68, 70, 70, 60, 60, 66, 55, 63, 70, 61, 69, 79, 69, 68, 78, 70, 60, 70, 64, 59, 68, 61, 63, 79, 82, 60, 75, 73, 59, 72, 63, 57, 71, 59, 59, 71, 65, 65, 72, 73, 63, 69, 67, 60, 67, 60, 61, 65, 61, 58, 61, 51, 56, 59, 49, 54, 56, 49, 52, 52, 46, 50, 49, 42, 52, 51, 44, 54, 54, 46, 57, 54, 45, 58, 55, 44, 59, 56, 45, 62, 58, 50, 69, 62, 55, 78, 70, 61, 81, 72, 63, 77, 73, 65, 74, 73, 66, 76, 78, 68, 72, 76, 67, 71, 78, 68, 74, 85, 66, 72, 83, 73, 67, 75, 74, 56, 65, 62, 61, 81, 84, 66, 81, 82, 64, 77, 75, 58, 73, 63, 60, 75, 65, 61, 73, 69, 60, 71, 62, 60, 71, 59, 64, 70, 65, 63, 69, 61, 62, 66, 62, 63, 65, 60, 61, 62, 57, 55, 55, 49, 56, 55, 48, 59, 58, 50, 59, 58, 48, 61, 60, 48, 63, 61, 51, 65, 61, 54, 69, 65, 55, 76, 71, 61, 83, 74, 67, 91, 85, 71, 91, 88, 72, 95, 94, 80, 98, 96, 84, 91, 94, 81, 83, 90, 74, 86, 95, 80, 77, 85, 81, 62, 72, 69, 60, 83, 88, 67, 84, 87, 65, 81, 79, 61, 77, 70, 60, 76, 68, 59, 75, 66, 62, 75, 65, 63, 75, 64, 66, 74, 67, 67, 76, 71, 69, 74, 70, 69, 71, 65, 68, 70, 65, 63, 64, 61, 59, 61, 57, 62, 61, 57, 62, 62, 54, 68, 68, 60, 74, 71, 64, 82, 76, 63, 95, 91, 67, 109, 102, 76, 116, 105, 81, 124, 115, 85, 126, 120, 91, 122, 117, 97, 121, 117, 103, 111, 112, 98, 91, 95, 86, 85, 93, 80, 76, 86, 75, 67, 79, 73, 58, 83, 87, 62, 83, 86, 64, 81, 80, 65, 81, 80, 68, 81, 81, 67, 78, 78, 66, 77, 76, 71, 80, 79, 66, 75, 69, 65, 77, 64, 70, 77, 68, 73, 78, 71, 72, 75, 69, 66, 71, 63, 63, 67, 60, 66, 67, 61, 68, 67, 62, 76, 72, 65, 97, 89, 70, 112, 100, 70, 125, 117, 76, 133, 123, 85, 133, 125, 88, 145, 141, 102, 145, 139, 120, 130, 127, 108, 124, 122, 102, 108, 111, 94, 90, 96, 86, 81, 89, 79, 73, 84, 76, 69, 82, 76], \"height\": 32, \"channels\": 3, \"width\": 32, \"type\": \"image\", \"id\": 139714697102672}, {\"format\": \"raw\", \"value\": [157, 145, 124, 154, 143, 121, 163, 147, 123, 163, 144, 119, 165, 148, 128, 165, 151, 139, 160, 152, 141, 156, 150, 138, 159, 151, 136, 156, 150, 122, 153, 147, 111, 153, 146, 108, 155, 149, 99, 150, 142, 85, 146, 140, 85, 146, 144, 99, 140, 136, 101, 147, 142, 114, 150, 144, 126, 147, 140, 130, 159, 153, 144, 180, 169, 162, 178, 165, 160, 174, 166, 162, 170, 167, 160, 169, 164, 154, 170, 163, 152, 149, 134, 124, 113, 88, 81, 119, 94, 90, 176, 160, 155, 191, 179, 175, 152, 144, 105, 152, 138, 103, 160, 136, 105, 160, 126, 99, 163, 135, 113, 160, 142, 127, 154, 145, 131, 154, 145, 128, 160, 146, 124, 151, 143, 109, 144, 141, 101, 149, 149, 107, 153, 150, 97, 141, 137, 77, 138, 136, 77, 134, 135, 83, 132, 131, 93, 129, 128, 98, 148, 143, 122, 151, 141, 128, 165, 154, 142, 179, 171, 159, 176, 168, 157, 174, 169, 159, 175, 169, 161, 172, 165, 156, 173, 166, 156, 147, 133, 124, 105, 83, 75, 113, 90, 83, 138, 120, 112, 145, 127, 121, 127, 122, 74, 136, 123, 80, 144, 119, 80, 145, 106, 73, 149, 117, 89, 155, 138, 118, 131, 122, 105, 116, 103, 82, 123, 108, 75, 125, 116, 75, 123, 121, 77, 135, 137, 93, 144, 145, 91, 148, 147, 89, 136, 136, 77, 108, 114, 57, 88, 92, 50, 80, 83, 50, 116, 114, 87, 126, 112, 94, 135, 118, 103, 156, 145, 129, 156, 148, 132, 151, 144, 130, 143, 134, 123, 157, 149, 138, 153, 146, 132, 126, 114, 100, 102, 82, 69, 112, 91, 78, 150, 133, 119, 160, 144, 132, 106, 103, 56, 114, 106, 59, 127, 109, 63, 137, 102, 61, 138, 109, 74, 154, 142, 115, 124, 114, 96, 103, 89, 63, 117, 103, 60, 123, 113, 64, 113, 108, 61, 111, 110, 65, 143, 147, 96, 150, 150, 99, 130, 133, 77, 93, 102, 44, 68, 75, 30, 65, 73, 36, 90, 91, 60, 110, 91, 71, 119, 93, 77, 165, 148, 130, 161, 150, 131, 137, 123, 107, 118, 103, 90, 153, 143, 127, 136, 130, 111, 96, 87, 66, 105, 87, 68, 107, 85, 67, 124, 109, 91, 125, 115, 97, 101, 97, 59, 86, 79, 36, 116, 102, 55, 131, 105, 59, 126, 102, 64, 158, 147, 119, 130, 121, 100, 105, 93, 64, 119, 110, 63, 109, 102, 55, 90, 83, 40, 98, 94, 53, 134, 138, 89, 153, 155, 104, 132, 138, 83, 98, 108, 51, 68, 76, 35, 87, 94, 58, 119, 119, 84, 115, 96, 65, 119, 93, 67, 133, 113, 88, 132, 116, 92, 134, 116, 96, 124, 107, 86, 164, 154, 125, 143, 136, 105, 96, 88, 58, 108, 94, 68, 109, 89, 67, 107, 95, 72, 103, 100, 75, 91, 87, 57, 91, 84, 45, 126, 115, 68, 132, 114, 68, 131, 112, 75, 153, 140, 112, 133, 125, 102, 95, 90, 59, 99, 96, 56, 87, 83, 49, 70, 66, 33, 101, 100, 60, 115, 119, 65, 137, 144, 85, 122, 132, 72, 95, 105, 51, 58, 67, 28, 92, 97, 58, 139, 136, 89, 120, 109, 54, 117, 101, 51, 112, 95, 51, 114, 100, 60, 132, 119, 84, 123, 113, 75, 134, 128, 81, 127, 122, 74, 108, 104, 60, 110, 102, 69, 110, 98, 70, 111, 105, 76, 110, 112, 77, 94, 95, 59, 96, 95, 48, 129, 125, 68, 133, 122, 69, 122, 108, 67, 99, 90, 60, 100, 96, 71, 86, 85, 57, 83, 82, 50, 82, 80, 49, 65, 65, 28, 98, 101, 53, 113, 120, 61, 115, 124, 61, 110, 122, 61, 96, 108, 53, 73, 84, 33, 97, 104, 50, 113, 116, 55, 131, 131, 64, 133, 128, 66, 131, 125, 68, 130, 125, 72, 118, 115, 65, 107, 106, 59, 102, 103, 54, 100, 101, 51, 96, 97, 50, 99, 97, 57, 111, 107, 67, 101, 100, 64, 91, 96, 57, 126, 133, 90, 110, 117, 64, 126, 132, 70, 131, 126, 70, 123, 114, 71, 106, 102, 69, 82, 83, 53, 78, 81, 51, 73, 74, 45, 85, 87, 55, 96, 100, 59, 113, 119, 67, 116, 125, 67, 112, 123, 63, 109, 121, 65, 104, 116, 67, 102, 114, 67, 109, 120, 72, 114, 123, 73, 120, 127, 75, 114, 118, 68, 110, 113, 67, 93, 97, 53, 81, 87, 45, 79, 86, 45, 81, 89, 47, 82, 88, 45, 81, 85, 42, 93, 96, 50, 110, 112, 61, 95, 99, 55, 76, 83, 44, 130, 137, 95, 119, 127, 79, 119, 127, 75, 120, 119, 70, 135, 130, 89, 118, 119, 82, 84, 92, 53, 74, 84, 43, 65, 71, 35, 89, 95, 61, 104, 111, 72, 97, 105, 59, 88, 96, 48, 85, 96, 47, 79, 90, 47, 89, 101, 68, 99, 115, 91, 93, 108, 86, 94, 105, 81, 101, 108, 83, 99, 104, 81, 91, 97, 76, 85, 93, 72, 87, 98, 76, 78, 89, 64, 72, 82, 53, 77, 84, 53, 78, 82, 46, 94, 97, 51, 109, 113, 56, 95, 99, 54, 74, 78, 44, 94, 98, 61, 86, 91, 55, 80, 86, 51, 87, 87, 50, 110, 108, 71, 76, 81, 42, 70, 83, 35, 88, 103, 49, 82, 93, 45, 83, 93, 55, 71, 80, 47, 63, 72, 39, 64, 72, 38, 73, 82, 48, 100, 110, 83, 158, 170, 155, 163, 183, 178, 142, 162, 156, 123, 135, 127, 94, 99, 88, 84, 88, 80, 78, 84, 77, 71, 80, 70, 72, 83, 72, 77, 87, 74, 79, 87, 71, 75, 78, 62, 80, 79, 55, 107, 105, 64, 141, 142, 84, 117, 117, 74, 78, 76, 51, 61, 63, 33, 59, 63, 35, 56, 62, 37, 64, 68, 36, 104, 108, 65, 98, 108, 53, 96, 111, 46, 104, 121, 50, 109, 122, 61, 89, 100, 60, 63, 72, 46, 63, 72, 49, 85, 91, 70, 107, 114, 97, 182, 190, 180, 216, 227, 225, 184, 207, 205, 189, 212, 209, 166, 179, 177, 96, 101, 98, 76, 81, 79, 87, 95, 92, 78, 87, 84, 94, 104, 100, 108, 119, 112, 156, 164, 156, 158, 160, 153, 162, 160, 150, 175, 172, 151, 181, 181, 146, 150, 148, 121, 123, 117, 101, 54, 57, 34, 51, 56, 31, 57, 64, 38, 64, 69, 37, 109, 114, 68, 127, 137, 76, 125, 137, 70, 116, 129, 60, 108, 120, 60, 83, 92, 58, 61, 71, 51, 79, 90, 70, 117, 124, 110, 168, 175, 166, 208, 217, 216, 193, 204, 207, 183, 204, 202, 180, 201, 199, 147, 160, 160, 101, 106, 109, 93, 100, 102, 96, 106, 107, 99, 108, 110, 120, 130, 131, 143, 153, 153, 194, 203, 200, 208, 211, 211, 224, 222, 224, 227, 223, 224, 229, 228, 221, 213, 209, 200, 171, 163, 154, 55, 64, 42, 59, 66, 41, 70, 76, 48, 77, 77, 49, 118, 116, 84, 138, 140, 102, 153, 157, 117, 158, 165, 124, 154, 162, 126, 140, 148, 127, 111, 120, 105, 115, 126, 109, 154, 165, 151, 183, 194, 186, 179, 191, 189, 182, 196, 197, 175, 194, 192, 165, 182, 181, 127, 137, 138, 105, 110, 113, 110, 115, 118, 109, 116, 119, 115, 122, 124, 130, 137, 139, 151, 158, 160, 190, 196, 199, 205, 208, 213, 211, 210, 216, 204, 201, 208, 206, 205, 208, 223, 220, 219, 177, 170, 163, 54, 64, 44, 58, 64, 41, 74, 77, 53, 89, 86, 65, 143, 138, 122, 203, 200, 186, 228, 226, 213, 229, 229, 216, 224, 227, 216, 177, 182, 175, 125, 132, 125, 142, 152, 141, 138, 150, 141, 128, 141, 135, 133, 147, 145, 144, 159, 159, 163, 177, 177, 131, 142, 143, 120, 127, 129, 155, 158, 162, 177, 179, 183, 146, 150, 153, 146, 150, 153, 174, 178, 181, 191, 194, 199, 193, 196, 204, 183, 184, 193, 181, 180, 190, 189, 187, 198, 191, 191, 202, 179, 177, 181, 147, 142, 136, 75, 79, 58, 84, 86, 68, 93, 95, 77, 138, 136, 125, 225, 220, 218, 233, 230, 233, 220, 218, 221, 215, 216, 216, 209, 211, 212, 194, 197, 197, 166, 173, 171, 171, 180, 175, 171, 179, 175, 160, 170, 168, 156, 167, 167, 154, 167, 167, 145, 154, 156, 120, 127, 129, 142, 147, 150, 169, 171, 175, 176, 176, 180, 178, 178, 183, 189, 189, 194, 184, 184, 189, 171, 172, 177, 150, 150, 158, 93, 93, 101, 128, 129, 137, 175, 176, 184, 132, 134, 142, 61, 60, 62, 94, 91, 83, 119, 114, 94, 122, 119, 104, 124, 123, 113, 188, 186, 183, 217, 215, 221, 195, 194, 205, 196, 196, 204, 198, 199, 204, 204, 204, 209, 229, 232, 234, 237, 243, 244, 233, 240, 241, 232, 235, 237, 218, 223, 224, 211, 218, 220, 205, 213, 215, 193, 198, 201, 182, 185, 189, 179, 180, 184, 181, 182, 186, 178, 178, 183, 174, 172, 177, 156, 155, 160, 142, 141, 146, 149, 148, 153, 156, 156, 160, 123, 124, 128, 138, 140, 144, 144, 147, 151, 73, 76, 78, 75, 77, 73, 80, 78, 69, 146, 133, 115, 139, 130, 117, 166, 158, 154, 193, 189, 192, 186, 186, 193, 187, 189, 197, 186, 184, 192, 190, 187, 193, 213, 213, 216, 231, 232, 234, 237, 238, 241, 244, 245, 248, 236, 236, 240, 220, 221, 224, 209, 210, 214, 201, 202, 206, 191, 192, 196, 180, 180, 184, 172, 172, 176, 163, 163, 167, 154, 153, 159, 143, 141, 147, 143, 142, 148, 159, 157, 163, 172, 172, 176, 162, 162, 163, 143, 143, 145, 146, 147, 148, 108, 109, 110, 83, 85, 85, 118, 119, 114, 111, 110, 99, 156, 141, 123, 158, 147, 136, 184, 174, 176, 191, 185, 193, 197, 197, 203, 203, 206, 211, 200, 199, 205, 215, 212, 218, 229, 229, 232, 238, 238, 240, 251, 251, 253, 246, 245, 248, 218, 218, 220, 204, 204, 206, 204, 204, 206, 181, 181, 183, 163, 163, 165, 152, 152, 155, 149, 149, 151, 143, 143, 146, 142, 142, 146, 151, 150, 155, 158, 157, 162, 154, 153, 159, 140, 139, 143, 130, 130, 132, 132, 132, 134, 139, 139, 140, 76, 76, 77, 102, 102, 102, 133, 133, 128, 127, 126, 114, 153, 141, 122, 168, 160, 152, 186, 179, 188, 200, 193, 204, 212, 211, 217, 194, 197, 202, 182, 182, 188, 215, 213, 219, 219, 218, 223, 235, 234, 238, 225, 224, 229, 155, 155, 158, 103, 103, 104, 98, 98, 99, 149, 149, 150, 169, 169, 169, 145, 145, 146, 140, 140, 140, 139, 139, 139, 139, 139, 140, 144, 144, 145, 138, 138, 140, 127, 126, 129, 119, 119, 121, 130, 130, 132, 147, 147, 149, 153, 153, 155, 127, 127, 129, 50, 50, 51, 113, 113, 109, 142, 141, 134, 128, 126, 114, 152, 144, 127, 170, 165, 159, 187, 183, 194, 195, 188, 200, 205, 201, 208, 185, 188, 193, 169, 171, 176, 197, 197, 202, 215, 214, 220, 194, 193, 199, 105, 104, 110, 52, 51, 56, 45, 45, 45, 32, 32, 31, 43, 43, 42, 123, 123, 122, 138, 137, 137, 127, 127, 127, 127, 127, 127, 125, 125, 125, 124, 125, 123, 128, 128, 126, 140, 140, 138, 155, 155, 153, 154, 155, 153, 135, 136, 134, 111, 111, 109, 74, 74, 73, 27, 27, 25, 102, 100, 94, 117, 114, 105, 127, 123, 111, 113, 108, 96, 153, 150, 147, 193, 192, 201, 188, 180, 192, 209, 203, 211, 212, 215, 219, 182, 186, 190, 188, 188, 194, 195, 194, 201, 100, 99, 106, 46, 45, 53, 67, 66, 72, 85, 85, 83, 68, 69, 66, 25, 25, 23, 75, 75, 73, 128, 128, 126, 117, 117, 115, 120, 120, 118, 126, 126, 124, 140, 141, 137, 153, 154, 148, 142, 143, 137, 112, 113, 108, 77, 79, 72, 54, 55, 48, 46, 47, 40, 31, 33, 25, 17, 17, 10, 56, 54, 44, 97, 93, 82, 132, 126, 114, 82, 78, 68, 131, 130, 125, 167, 167, 173, 198, 193, 203, 209, 205, 213, 189, 191, 198, 163, 167, 173, 173, 175, 181, 134, 134, 141, 46, 46, 53, 75, 76, 81, 92, 92, 95, 96, 96, 95, 115, 115, 113, 46, 46, 42, 61, 62, 58, 114, 115, 111, 105, 106, 101, 107, 108, 103, 110, 110, 105, 99, 100, 92, 74, 76, 66, 54, 55, 46, 45, 46, 37, 53, 53, 43, 67, 67, 54, 77, 77, 64, 80, 80, 67, 82, 81, 68, 99, 95, 82, 126, 120, 107, 139, 132, 119, 136, 135, 121, 139, 140, 130, 129, 130, 131, 150, 150, 158, 160, 160, 169, 153, 154, 162, 149, 151, 159, 152, 154, 161, 86, 87, 92, 48, 51, 52, 78, 81, 79, 107, 109, 106, 125, 125, 126, 123, 123, 123, 68, 69, 66, 54, 55, 50, 73, 75, 69, 55, 56, 50, 48, 48, 41, 47, 45, 36, 50, 49, 35, 56, 56, 39, 69, 69, 53, 86, 86, 69, 100, 99, 82, 113, 109, 93, 122, 117, 102, 127, 122, 107, 130, 125, 109, 137, 129, 114, 141, 133, 118, 143, 134, 119, 152, 150, 135, 137, 136, 125, 113, 113, 112, 119, 119, 125, 122, 123, 128, 131, 131, 137, 140, 140, 146, 133, 133, 138, 64, 65, 67, 58, 59, 59, 68, 70, 67, 113, 115, 111, 137, 137, 137, 139, 139, 138, 81, 81, 77, 34, 35, 29, 34, 35, 28, 35, 36, 27, 49, 47, 37, 70, 67, 55, 88, 85, 70, 102, 100, 82, 108, 106, 88, 124, 121, 103, 129, 124, 107, 134, 127, 111, 138, 132, 115, 141, 135, 118, 144, 136, 120, 144, 135, 120, 143, 134, 119, 142, 133, 118, 148, 145, 130, 129, 128, 115, 81, 81, 76, 102, 102, 102, 142, 142, 143, 136, 136, 137, 127, 127, 128, 116, 116, 116, 45, 45, 43, 56, 57, 54, 112, 112, 110, 124, 125, 122, 130, 129, 126, 129, 128, 124, 74, 74, 67, 45, 45, 36, 65, 65, 54, 84, 81, 69, 98, 94, 80, 113, 107, 92, 118, 112, 95, 125, 119, 101, 132, 127, 109, 139, 134, 116, 143, 136, 118, 144, 137, 119, 143, 135, 118, 144, 137, 119, 145, 137, 120, 147, 138, 123, 145, 136, 121, 145, 136, 121, 147, 142, 128, 127, 124, 111, 79, 77, 69, 64, 63, 59, 103, 102, 98, 89, 88, 84, 87, 86, 82, 84, 84, 79, 33, 33, 27, 46, 45, 41, 112, 111, 109, 96, 95, 93, 133, 131, 125, 118, 116, 108, 61, 60, 50, 78, 77, 65, 104, 100, 85, 116, 111, 94, 124, 117, 99, 130, 122, 103, 135, 127, 108, 139, 132, 113, 144, 136, 118, 145, 138, 119, 145, 137, 119, 149, 139, 121, 148, 138, 120, 148, 138, 120, 147, 137, 120, 147, 138, 123, 147, 138, 123, 147, 138, 123, 138, 131, 117, 133, 128, 113, 106, 103, 93, 77, 75, 68, 66, 65, 57, 60, 59, 51, 59, 58, 50, 53, 52, 44, 39, 38, 30, 37, 36, 30, 69, 68, 65, 115, 113, 111, 113, 110, 102, 73, 70, 60, 78, 75, 64, 108, 106, 92, 124, 119, 101, 132, 125, 105, 136, 127, 106, 145, 134, 112, 148, 136, 117, 144, 133, 115, 146, 135, 117, 150, 139, 120, 147, 136, 118, 149, 138, 119, 151, 140, 121, 152, 141, 122, 151, 141, 123, 151, 142, 126, 150, 141, 126, 146, 137, 122, 128, 120, 107, 136, 129, 115, 127, 122, 109, 117, 113, 102, 101, 98, 88, 91, 88, 78, 82, 79, 69, 74, 70, 60, 68, 63, 55, 58, 53, 46, 43, 38, 33, 58, 53, 49, 69, 66, 56, 88, 83, 73, 118, 111, 100, 130, 123, 109, 137, 127, 112, 142, 131, 114, 146, 134, 116, 154, 142, 122, 150, 138, 118, 149, 137, 117, 151, 138, 120, 152, 139, 121, 150, 137, 119, 149, 137, 119, 151, 140, 121, 152, 143, 125, 150, 141, 124, 152, 142, 127, 150, 139, 125, 145, 134, 121, 140, 132, 119, 143, 135, 122, 138, 130, 117, 135, 129, 117, 123, 119, 107, 117, 112, 100, 111, 106, 95, 107, 102, 90, 107, 100, 89, 101, 94, 83, 95, 88, 77, 102, 96, 85, 119, 117, 104, 133, 128, 115, 136, 128, 114, 140, 130, 115, 147, 133, 121, 150, 136, 123, 154, 141, 125, 154, 141, 124, 152, 139, 119, 154, 142, 121, 153, 140, 123, 154, 141, 125, 155, 142, 125, 154, 141, 124, 151, 139, 123, 148, 139, 124, 147, 140, 124, 149, 138, 123, 148, 136, 123, 146, 133, 122, 146, 138, 125, 144, 136, 123, 144, 136, 123, 142, 135, 122, 137, 131, 118, 133, 127, 114, 130, 124, 112, 132, 125, 111, 132, 125, 108, 134, 127, 110, 136, 129, 113, 138, 132, 115, 137, 132, 116, 142, 136, 118, 146, 139, 120, 146, 138, 118, 151, 138, 123, 151, 137, 123, 153, 140, 123, 153, 140, 121, 154, 142, 121, 157, 145, 124, 160, 147, 130, 158, 145, 129, 155, 142, 125, 155, 142, 125, 150, 139, 122, 143, 134, 118, 144, 136, 121, 147, 136, 122, 146, 135, 122, 142, 131, 120, 142, 134, 121, 141, 133, 120, 144, 136, 123, 143, 136, 122, 143, 136, 122, 143, 136, 122, 141, 134, 120, 144, 136, 120, 144, 136, 117, 142, 134, 115, 144, 136, 116, 145, 137, 118, 146, 137, 119, 148, 140, 120, 147, 139, 116, 147, 140, 116, 151, 139, 122, 154, 141, 124, 154, 141, 122, 156, 143, 123, 155, 143, 121, 158, 146, 125, 160, 147, 129, 158, 145, 129, 155, 142, 125, 152, 139, 122, 146, 134, 118, 142, 134, 118, 140, 133, 117, 141, 134, 118, 143, 134, 120, 139, 130, 118, 142, 134, 120, 141, 133, 120, 140, 132, 120, 144, 136, 121, 146, 138, 123, 147, 139, 124, 147, 139, 124, 148, 139, 123, 151, 140, 123, 149, 138, 121, 150, 139, 122, 149, 138, 122, 151, 139, 123, 152, 141, 123, 148, 140, 119, 148, 141, 118, 152, 141, 122, 157, 144, 126, 152, 140, 120, 155, 143, 120, 158, 146, 123, 159, 146, 126, 155, 142, 124, 155, 142, 126, 154, 141, 125, 151, 137, 120, 145, 133, 117, 142, 134, 118, 140, 133, 117, 138, 131, 115, 139, 132, 118, 139, 131, 119], \"height\": 32, \"channels\": 3, \"width\": 32, \"type\": \"image\", \"id\": 139714697103760}], \"selected_variable\": {\"name\": [\"<temporary SArray>\"], \"dtype\": \"Image\", \"view_component\": \"Images\", \"view_file\": \"sarray\", \"descriptives\": {\"rows\": 5}, \"type\": \"SArray\", \"view_components\": [\"Images\"]}}, e);\n",
       "                });\n",
       "            })();\n",
       "        "
      ]
     },
     "metadata": {},
     "output_type": "display_data"
    }
   ],
   "source": [
    "show_neighbors(26)"
   ]
  },
  {
   "cell_type": "code",
   "execution_count": 22,
   "metadata": {
    "collapsed": false
   },
   "outputs": [
    {
     "data": {
      "text/html": [
       "<pre>Starting pairwise querying.</pre>"
      ],
      "text/plain": [
       "Starting pairwise querying."
      ]
     },
     "metadata": {},
     "output_type": "display_data"
    },
    {
     "data": {
      "text/html": [
       "<pre>+--------------+---------+-------------+--------------+</pre>"
      ],
      "text/plain": [
       "+--------------+---------+-------------+--------------+"
      ]
     },
     "metadata": {},
     "output_type": "display_data"
    },
    {
     "data": {
      "text/html": [
       "<pre>| Query points | # Pairs | % Complete. | Elapsed Time |</pre>"
      ],
      "text/plain": [
       "| Query points | # Pairs | % Complete. | Elapsed Time |"
      ]
     },
     "metadata": {},
     "output_type": "display_data"
    },
    {
     "data": {
      "text/html": [
       "<pre>+--------------+---------+-------------+--------------+</pre>"
      ],
      "text/plain": [
       "+--------------+---------+-------------+--------------+"
      ]
     },
     "metadata": {},
     "output_type": "display_data"
    },
    {
     "data": {
      "text/html": [
       "<pre>| 0            | 1       | 0.0498753   | 32.924ms     |</pre>"
      ],
      "text/plain": [
       "| 0            | 1       | 0.0498753   | 32.924ms     |"
      ]
     },
     "metadata": {},
     "output_type": "display_data"
    },
    {
     "data": {
      "text/html": [
       "<pre>| Done         |         | 100         | 186.476ms    |</pre>"
      ],
      "text/plain": [
       "| Done         |         | 100         | 186.476ms    |"
      ]
     },
     "metadata": {},
     "output_type": "display_data"
    },
    {
     "data": {
      "text/html": [
       "<pre>+--------------+---------+-------------+--------------+</pre>"
      ],
      "text/plain": [
       "+--------------+---------+-------------+--------------+"
      ]
     },
     "metadata": {},
     "output_type": "display_data"
    },
    {
     "name": "stdout",
     "output_type": "stream",
     "text": [
      "Canvas is updated and available in a tab in the default browser.\n"
     ]
    }
   ],
   "source": [
    "image_test = graphlab.SFrame('image_test_data/')\n",
    "\n",
    "cat = image_test[0:1]\n",
    "cat_neighbors = get_images_from_ids(knn_model.query(cat))\n",
    "cat_neighbors['image'].show()"
   ]
  },
  {
   "cell_type": "code",
   "execution_count": 27,
   "metadata": {
    "collapsed": false
   },
   "outputs": [
    {
     "data": {
      "text/html": [
       "<pre>Starting pairwise querying.</pre>"
      ],
      "text/plain": [
       "Starting pairwise querying."
      ]
     },
     "metadata": {},
     "output_type": "display_data"
    },
    {
     "data": {
      "text/html": [
       "<pre>+--------------+---------+-------------+--------------+</pre>"
      ],
      "text/plain": [
       "+--------------+---------+-------------+--------------+"
      ]
     },
     "metadata": {},
     "output_type": "display_data"
    },
    {
     "data": {
      "text/html": [
       "<pre>| Query points | # Pairs | % Complete. | Elapsed Time |</pre>"
      ],
      "text/plain": [
       "| Query points | # Pairs | % Complete. | Elapsed Time |"
      ]
     },
     "metadata": {},
     "output_type": "display_data"
    },
    {
     "data": {
      "text/html": [
       "<pre>+--------------+---------+-------------+--------------+</pre>"
      ],
      "text/plain": [
       "+--------------+---------+-------------+--------------+"
      ]
     },
     "metadata": {},
     "output_type": "display_data"
    },
    {
     "data": {
      "text/html": [
       "<pre>| 0            | 1       | 0.0498753   | 20.949ms     |</pre>"
      ],
      "text/plain": [
       "| 0            | 1       | 0.0498753   | 20.949ms     |"
      ]
     },
     "metadata": {},
     "output_type": "display_data"
    },
    {
     "data": {
      "text/html": [
       "<pre>| Done         |         | 100         | 255.463ms    |</pre>"
      ],
      "text/plain": [
       "| Done         |         | 100         | 255.463ms    |"
      ]
     },
     "metadata": {},
     "output_type": "display_data"
    },
    {
     "data": {
      "text/html": [
       "<pre>+--------------+---------+-------------+--------------+</pre>"
      ],
      "text/plain": [
       "+--------------+---------+-------------+--------------+"
      ]
     },
     "metadata": {},
     "output_type": "display_data"
    }
   ],
   "source": [
    "# image_train.head()\n",
    "res = knn_model.query(cat)"
   ]
  },
  {
   "cell_type": "code",
   "execution_count": 29,
   "metadata": {
    "collapsed": false
   },
   "outputs": [
    {
     "data": {
      "text/plain": [
       "dtype: float\n",
       "Rows: 5\n",
       "[34.62371920804245, 36.00687992842462, 36.52008134363789, 36.754850252057054, 36.87312281675268]"
      ]
     },
     "execution_count": 29,
     "metadata": {},
     "output_type": "execute_result"
    }
   ],
   "source": [
    "sumres['distance']"
   ]
  }
 ],
 "metadata": {
  "kernelspec": {
   "display_name": "Python 2",
   "language": "python",
   "name": "python2"
  },
  "language_info": {
   "codemirror_mode": {
    "name": "ipython",
    "version": 2
   },
   "file_extension": ".py",
   "mimetype": "text/x-python",
   "name": "python",
   "nbconvert_exporter": "python",
   "pygments_lexer": "ipython2",
   "version": "2.7.11"
  }
 },
 "nbformat": 4,
 "nbformat_minor": 0
}
